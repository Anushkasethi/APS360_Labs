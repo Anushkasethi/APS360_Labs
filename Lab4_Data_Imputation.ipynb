{
  "cells": [
    {
      "cell_type": "markdown",
      "metadata": {
        "id": "view-in-github",
        "colab_type": "text"
      },
      "source": [
        "<a href=\"https://colab.research.google.com/github/Anushkasethi/APS360_Labs/blob/main/Lab4_Data_Imputation.ipynb\" target=\"_parent\"><img src=\"https://colab.research.google.com/assets/colab-badge.svg\" alt=\"Open In Colab\"/></a>"
      ]
    },
    {
      "cell_type": "markdown",
      "metadata": {
        "id": "OhtOdxzd1ppr"
      },
      "source": [
        "# Lab 4: Data Imputation using an Autoencoder\n",
        "\n",
        "**Deadline**: Monday, July 11 at 5:00 PM\n",
        "\n",
        "**Late Penalty**:  Any work that is submitted between 0 hour and 24 hours past the deadline will receive a 20% grade deduction. No other late work is accepted. Quercus submission time will be used, not your local computer time. You can submit your labs as many times as you want before the deadline, so please submit often and early.\n",
        "\n",
        "**TA**: Justin Beland <justin.beland@mail.utoronto.ca>\n",
        "\n",
        "In this lab, you will build and train an autoencoder to impute (or \"fill in\") missing data. \n",
        "\n",
        "We will be using the\n",
        "Adult Data Set provided by the UCI Machine Learning Repository [1], available \n",
        "at https://archive.ics.uci.edu/ml/datasets/adult.\n",
        "The data set contains census record files of adults, including their\n",
        "age, martial status, the type of work they do, and other features. \n",
        "\n",
        "Normally, people use this data set to build a supervised classification\n",
        "model to classify whether a person is a high income earner.\n",
        "We will not use the dataset for this original intended purpose.\n",
        "\n",
        "Instead, we will perform the task of imputing (or \"filling in\") missing values in the dataset. For example,\n",
        "we may be missing one person's martial status, and another person's age, and\n",
        "a third person's level of education. Our model will predict the missing features \n",
        "based on the information that we do have about each person.\n",
        "\n",
        "We will use a variation of a denoising autoencoder to solve this data imputation\n",
        "problem. Our autoencoder will be trained using inputs that have one categorical feature artificially\n",
        "removed, and the goal of the autoencoder is to correctly reconstruct all features,\n",
        "including the one removed from the input.\n",
        "\n",
        "In the process, you are expected to learn to:\n",
        "\n",
        "1. Clean and process continuous and categorical data for machine learning.\n",
        "2. Implement an autoencoder that takes continuous and categorical (one-hot) inputs.\n",
        "3. Tune the hyperparameters of an autoencoder.\n",
        "4. Use baseline models to help interpret model performance.\n",
        "\n",
        "[1] Dua, D. and Karra Taniskidou, E. (2017). UCI Machine Learning Repository [http://archive.ics.uci.edu/ml]. Irvine, CA: University of California, School of Information and Computer Science.\n",
        "\n",
        "\n",
        "### What to submit\n",
        "\n",
        "Submit a PDF file containing all your code, outputs, and write-up. You can produce a PDF of your Google Colab file by going to File > Print and then save as PDF. The Colab instructions have more information (.html files are also acceptable).\n",
        "\n",
        "Do not submit any other files produced by your code.\n",
        "\n",
        "Include a link to your colab file in your submission.\n"
      ]
    },
    {
      "cell_type": "markdown",
      "metadata": {
        "id": "zbnrp2ig1pps"
      },
      "source": [
        "## Colab Link\n",
        "\n",
        "Include a link to your Colab file here. If you would like the TA to look at your\n",
        "Colab file in case your solutions are cut off, **please make sure that your Colab\n",
        "file is publicly accessible at the time of submission**.\n",
        "\n",
        "Colab Link: https://colab.research.google.com/drive/1c5LS805BpzgeECn0J0oC5_29xe1eUVdt?usp=sharing"
      ]
    },
    {
      "cell_type": "code",
      "execution_count": null,
      "metadata": {
        "collapsed": true,
        "id": "z3p8N43E1ppt"
      },
      "outputs": [],
      "source": [
        "import csv\n",
        "import numpy as np\n",
        "import random\n",
        "import torch\n",
        "import torch.utils.data"
      ]
    },
    {
      "cell_type": "markdown",
      "metadata": {
        "id": "8ROwtHcz1ppx"
      },
      "source": [
        "## Part 0\n",
        "\n",
        "We will be using a package called `pandas` for this assignment. \n",
        "\n",
        "If you are using Colab, `pandas` should already be available.\n",
        "If you are using your own computer,\n",
        "installation instructions for `pandas` are available here: \n",
        "https://pandas.pydata.org/pandas-docs/stable/install.html"
      ]
    },
    {
      "cell_type": "code",
      "execution_count": null,
      "metadata": {
        "collapsed": true,
        "id": "IXQ7BP151ppz"
      },
      "outputs": [],
      "source": [
        "import pandas as pd"
      ]
    },
    {
      "cell_type": "markdown",
      "metadata": {
        "id": "hqXihb4Q1pp2"
      },
      "source": [
        "# Part 1. Data Cleaning [15 pt]\n",
        "\n",
        "The adult.data file is available at `https://archive.ics.uci.edu/ml/machine-learning-databases/adult/adult.data`\n",
        "\n",
        "The function `pd.read_csv` loads the adult.data file into a pandas dataframe.\n",
        "You can read about the pandas documentation for `pd.read_csv` at\n",
        "https://pandas.pydata.org/pandas-docs/stable/reference/api/pandas.read_csv.html"
      ]
    },
    {
      "cell_type": "code",
      "execution_count": null,
      "metadata": {
        "colab": {
          "base_uri": "https://localhost:8080/"
        },
        "id": "EOMItFKn1pp3",
        "outputId": "a7f4031f-e2ea-48f7-902c-d27edae20843"
      },
      "outputs": [
        {
          "output_type": "stream",
          "name": "stderr",
          "text": [
            "/usr/local/lib/python3.7/dist-packages/pandas/util/_decorators.py:311: ParserWarning: Length of header or names does not match length of data. This leads to a loss of data with index_col=False.\n",
            "  return func(*args, **kwargs)\n"
          ]
        }
      ],
      "source": [
        "header = ['age', 'work', 'fnlwgt', 'edu', 'yredu', 'marriage', 'occupation',\n",
        " 'relationship', 'race', 'sex', 'capgain', 'caploss', 'workhr', 'country']\n",
        "df = pd.read_csv(\n",
        "    \"https://archive.ics.uci.edu/ml/machine-learning-databases/adult/adult.data\",\n",
        "    names=header,\n",
        "    index_col=False)"
      ]
    },
    {
      "cell_type": "code",
      "execution_count": null,
      "metadata": {
        "colab": {
          "base_uri": "https://localhost:8080/"
        },
        "id": "62Ot405q1pp5",
        "outputId": "8275d6bd-1fb1-4855-8e32-2086429f5aa5",
        "scrolled": true
      },
      "outputs": [
        {
          "output_type": "execute_result",
          "data": {
            "text/plain": [
              "(32561, 14)"
            ]
          },
          "metadata": {},
          "execution_count": 5
        }
      ],
      "source": [
        "df.shape # there are 32561 rows (records) in the data frame, and 14 columns (features)"
      ]
    },
    {
      "cell_type": "markdown",
      "metadata": {
        "id": "Tr7YG-QY1pp8"
      },
      "source": [
        "### Part (a) Continuous Features [3 pt]\n",
        "\n",
        "For each of the columns `[\"age\", \"yredu\", \"capgain\", \"caploss\", \"workhr\"]`, report the minimum, maximum, and average value across the dataset. \n",
        "\n",
        "Then, normalize each of the features `[\"age\", \"yredu\", \"capgain\", \"caploss\", \"workhr\"]`\n",
        "so that their values are always between 0 and 1.\n",
        "Make sure that you are actually modifying the dataframe `df`. \n",
        "\n",
        "Like numpy arrays and torch tensors, \n",
        "pandas data frames can be sliced. For example, we can\n",
        "display the first 3 rows of the data frame (3 records) below."
      ]
    },
    {
      "cell_type": "code",
      "execution_count": null,
      "metadata": {
        "colab": {
          "base_uri": "https://localhost:8080/",
          "height": 239
        },
        "id": "9evSLsSa1pp9",
        "outputId": "104ed7da-5960-4ba0-8d46-b3c61b888659"
      },
      "outputs": [
        {
          "output_type": "execute_result",
          "data": {
            "text/plain": [
              "   age               work  fnlwgt         edu  yredu             marriage  \\\n",
              "0   39          State-gov   77516   Bachelors     13        Never-married   \n",
              "1   50   Self-emp-not-inc   83311   Bachelors     13   Married-civ-spouse   \n",
              "2   38            Private  215646     HS-grad      9             Divorced   \n",
              "\n",
              "           occupation    relationship    race    sex  capgain  caploss  \\\n",
              "0        Adm-clerical   Not-in-family   White   Male     2174        0   \n",
              "1     Exec-managerial         Husband   White   Male        0        0   \n",
              "2   Handlers-cleaners   Not-in-family   White   Male        0        0   \n",
              "\n",
              "   workhr         country  \n",
              "0      40   United-States  \n",
              "1      13   United-States  \n",
              "2      40   United-States  "
            ],
            "text/html": [
              "\n",
              "  <div id=\"df-1b5ce476-b55a-46db-a4ab-b425a7e45a28\">\n",
              "    <div class=\"colab-df-container\">\n",
              "      <div>\n",
              "<style scoped>\n",
              "    .dataframe tbody tr th:only-of-type {\n",
              "        vertical-align: middle;\n",
              "    }\n",
              "\n",
              "    .dataframe tbody tr th {\n",
              "        vertical-align: top;\n",
              "    }\n",
              "\n",
              "    .dataframe thead th {\n",
              "        text-align: right;\n",
              "    }\n",
              "</style>\n",
              "<table border=\"1\" class=\"dataframe\">\n",
              "  <thead>\n",
              "    <tr style=\"text-align: right;\">\n",
              "      <th></th>\n",
              "      <th>age</th>\n",
              "      <th>work</th>\n",
              "      <th>fnlwgt</th>\n",
              "      <th>edu</th>\n",
              "      <th>yredu</th>\n",
              "      <th>marriage</th>\n",
              "      <th>occupation</th>\n",
              "      <th>relationship</th>\n",
              "      <th>race</th>\n",
              "      <th>sex</th>\n",
              "      <th>capgain</th>\n",
              "      <th>caploss</th>\n",
              "      <th>workhr</th>\n",
              "      <th>country</th>\n",
              "    </tr>\n",
              "  </thead>\n",
              "  <tbody>\n",
              "    <tr>\n",
              "      <th>0</th>\n",
              "      <td>39</td>\n",
              "      <td>State-gov</td>\n",
              "      <td>77516</td>\n",
              "      <td>Bachelors</td>\n",
              "      <td>13</td>\n",
              "      <td>Never-married</td>\n",
              "      <td>Adm-clerical</td>\n",
              "      <td>Not-in-family</td>\n",
              "      <td>White</td>\n",
              "      <td>Male</td>\n",
              "      <td>2174</td>\n",
              "      <td>0</td>\n",
              "      <td>40</td>\n",
              "      <td>United-States</td>\n",
              "    </tr>\n",
              "    <tr>\n",
              "      <th>1</th>\n",
              "      <td>50</td>\n",
              "      <td>Self-emp-not-inc</td>\n",
              "      <td>83311</td>\n",
              "      <td>Bachelors</td>\n",
              "      <td>13</td>\n",
              "      <td>Married-civ-spouse</td>\n",
              "      <td>Exec-managerial</td>\n",
              "      <td>Husband</td>\n",
              "      <td>White</td>\n",
              "      <td>Male</td>\n",
              "      <td>0</td>\n",
              "      <td>0</td>\n",
              "      <td>13</td>\n",
              "      <td>United-States</td>\n",
              "    </tr>\n",
              "    <tr>\n",
              "      <th>2</th>\n",
              "      <td>38</td>\n",
              "      <td>Private</td>\n",
              "      <td>215646</td>\n",
              "      <td>HS-grad</td>\n",
              "      <td>9</td>\n",
              "      <td>Divorced</td>\n",
              "      <td>Handlers-cleaners</td>\n",
              "      <td>Not-in-family</td>\n",
              "      <td>White</td>\n",
              "      <td>Male</td>\n",
              "      <td>0</td>\n",
              "      <td>0</td>\n",
              "      <td>40</td>\n",
              "      <td>United-States</td>\n",
              "    </tr>\n",
              "  </tbody>\n",
              "</table>\n",
              "</div>\n",
              "      <button class=\"colab-df-convert\" onclick=\"convertToInteractive('df-1b5ce476-b55a-46db-a4ab-b425a7e45a28')\"\n",
              "              title=\"Convert this dataframe to an interactive table.\"\n",
              "              style=\"display:none;\">\n",
              "        \n",
              "  <svg xmlns=\"http://www.w3.org/2000/svg\" height=\"24px\"viewBox=\"0 0 24 24\"\n",
              "       width=\"24px\">\n",
              "    <path d=\"M0 0h24v24H0V0z\" fill=\"none\"/>\n",
              "    <path d=\"M18.56 5.44l.94 2.06.94-2.06 2.06-.94-2.06-.94-.94-2.06-.94 2.06-2.06.94zm-11 1L8.5 8.5l.94-2.06 2.06-.94-2.06-.94L8.5 2.5l-.94 2.06-2.06.94zm10 10l.94 2.06.94-2.06 2.06-.94-2.06-.94-.94-2.06-.94 2.06-2.06.94z\"/><path d=\"M17.41 7.96l-1.37-1.37c-.4-.4-.92-.59-1.43-.59-.52 0-1.04.2-1.43.59L10.3 9.45l-7.72 7.72c-.78.78-.78 2.05 0 2.83L4 21.41c.39.39.9.59 1.41.59.51 0 1.02-.2 1.41-.59l7.78-7.78 2.81-2.81c.8-.78.8-2.07 0-2.86zM5.41 20L4 18.59l7.72-7.72 1.47 1.35L5.41 20z\"/>\n",
              "  </svg>\n",
              "      </button>\n",
              "      \n",
              "  <style>\n",
              "    .colab-df-container {\n",
              "      display:flex;\n",
              "      flex-wrap:wrap;\n",
              "      gap: 12px;\n",
              "    }\n",
              "\n",
              "    .colab-df-convert {\n",
              "      background-color: #E8F0FE;\n",
              "      border: none;\n",
              "      border-radius: 50%;\n",
              "      cursor: pointer;\n",
              "      display: none;\n",
              "      fill: #1967D2;\n",
              "      height: 32px;\n",
              "      padding: 0 0 0 0;\n",
              "      width: 32px;\n",
              "    }\n",
              "\n",
              "    .colab-df-convert:hover {\n",
              "      background-color: #E2EBFA;\n",
              "      box-shadow: 0px 1px 2px rgba(60, 64, 67, 0.3), 0px 1px 3px 1px rgba(60, 64, 67, 0.15);\n",
              "      fill: #174EA6;\n",
              "    }\n",
              "\n",
              "    [theme=dark] .colab-df-convert {\n",
              "      background-color: #3B4455;\n",
              "      fill: #D2E3FC;\n",
              "    }\n",
              "\n",
              "    [theme=dark] .colab-df-convert:hover {\n",
              "      background-color: #434B5C;\n",
              "      box-shadow: 0px 1px 3px 1px rgba(0, 0, 0, 0.15);\n",
              "      filter: drop-shadow(0px 1px 2px rgba(0, 0, 0, 0.3));\n",
              "      fill: #FFFFFF;\n",
              "    }\n",
              "  </style>\n",
              "\n",
              "      <script>\n",
              "        const buttonEl =\n",
              "          document.querySelector('#df-1b5ce476-b55a-46db-a4ab-b425a7e45a28 button.colab-df-convert');\n",
              "        buttonEl.style.display =\n",
              "          google.colab.kernel.accessAllowed ? 'block' : 'none';\n",
              "\n",
              "        async function convertToInteractive(key) {\n",
              "          const element = document.querySelector('#df-1b5ce476-b55a-46db-a4ab-b425a7e45a28');\n",
              "          const dataTable =\n",
              "            await google.colab.kernel.invokeFunction('convertToInteractive',\n",
              "                                                     [key], {});\n",
              "          if (!dataTable) return;\n",
              "\n",
              "          const docLinkHtml = 'Like what you see? Visit the ' +\n",
              "            '<a target=\"_blank\" href=https://colab.research.google.com/notebooks/data_table.ipynb>data table notebook</a>'\n",
              "            + ' to learn more about interactive tables.';\n",
              "          element.innerHTML = '';\n",
              "          dataTable['output_type'] = 'display_data';\n",
              "          await google.colab.output.renderOutput(dataTable, element);\n",
              "          const docLink = document.createElement('div');\n",
              "          docLink.innerHTML = docLinkHtml;\n",
              "          element.appendChild(docLink);\n",
              "        }\n",
              "      </script>\n",
              "    </div>\n",
              "  </div>\n",
              "  "
            ]
          },
          "metadata": {},
          "execution_count": 7
        }
      ],
      "source": [
        "df[:3] # show the first 3 records"
      ]
    },
    {
      "cell_type": "markdown",
      "metadata": {
        "id": "gBOojI6W1pqA"
      },
      "source": [
        "Alternatively, we can slice based on column names, \n",
        "for example `df[\"race\"]`, `df[\"hr\"]`, or even index multiple columns \n",
        "like below."
      ]
    },
    {
      "cell_type": "code",
      "execution_count": null,
      "metadata": {
        "colab": {
          "base_uri": "https://localhost:8080/",
          "height": 143
        },
        "id": "4v6pp73A1pqB",
        "outputId": "6f131c21-c235-4100-c209-ff8435f175f4"
      },
      "outputs": [
        {
          "output_type": "execute_result",
          "data": {
            "text/plain": [
              "   age  yredu  capgain  caploss  workhr\n",
              "0   39     13     2174        0      40\n",
              "1   50     13        0        0      13\n",
              "2   38      9        0        0      40"
            ],
            "text/html": [
              "\n",
              "  <div id=\"df-e9f8f299-d26a-44ac-98a2-8a798ede0160\">\n",
              "    <div class=\"colab-df-container\">\n",
              "      <div>\n",
              "<style scoped>\n",
              "    .dataframe tbody tr th:only-of-type {\n",
              "        vertical-align: middle;\n",
              "    }\n",
              "\n",
              "    .dataframe tbody tr th {\n",
              "        vertical-align: top;\n",
              "    }\n",
              "\n",
              "    .dataframe thead th {\n",
              "        text-align: right;\n",
              "    }\n",
              "</style>\n",
              "<table border=\"1\" class=\"dataframe\">\n",
              "  <thead>\n",
              "    <tr style=\"text-align: right;\">\n",
              "      <th></th>\n",
              "      <th>age</th>\n",
              "      <th>yredu</th>\n",
              "      <th>capgain</th>\n",
              "      <th>caploss</th>\n",
              "      <th>workhr</th>\n",
              "    </tr>\n",
              "  </thead>\n",
              "  <tbody>\n",
              "    <tr>\n",
              "      <th>0</th>\n",
              "      <td>39</td>\n",
              "      <td>13</td>\n",
              "      <td>2174</td>\n",
              "      <td>0</td>\n",
              "      <td>40</td>\n",
              "    </tr>\n",
              "    <tr>\n",
              "      <th>1</th>\n",
              "      <td>50</td>\n",
              "      <td>13</td>\n",
              "      <td>0</td>\n",
              "      <td>0</td>\n",
              "      <td>13</td>\n",
              "    </tr>\n",
              "    <tr>\n",
              "      <th>2</th>\n",
              "      <td>38</td>\n",
              "      <td>9</td>\n",
              "      <td>0</td>\n",
              "      <td>0</td>\n",
              "      <td>40</td>\n",
              "    </tr>\n",
              "  </tbody>\n",
              "</table>\n",
              "</div>\n",
              "      <button class=\"colab-df-convert\" onclick=\"convertToInteractive('df-e9f8f299-d26a-44ac-98a2-8a798ede0160')\"\n",
              "              title=\"Convert this dataframe to an interactive table.\"\n",
              "              style=\"display:none;\">\n",
              "        \n",
              "  <svg xmlns=\"http://www.w3.org/2000/svg\" height=\"24px\"viewBox=\"0 0 24 24\"\n",
              "       width=\"24px\">\n",
              "    <path d=\"M0 0h24v24H0V0z\" fill=\"none\"/>\n",
              "    <path d=\"M18.56 5.44l.94 2.06.94-2.06 2.06-.94-2.06-.94-.94-2.06-.94 2.06-2.06.94zm-11 1L8.5 8.5l.94-2.06 2.06-.94-2.06-.94L8.5 2.5l-.94 2.06-2.06.94zm10 10l.94 2.06.94-2.06 2.06-.94-2.06-.94-.94-2.06-.94 2.06-2.06.94z\"/><path d=\"M17.41 7.96l-1.37-1.37c-.4-.4-.92-.59-1.43-.59-.52 0-1.04.2-1.43.59L10.3 9.45l-7.72 7.72c-.78.78-.78 2.05 0 2.83L4 21.41c.39.39.9.59 1.41.59.51 0 1.02-.2 1.41-.59l7.78-7.78 2.81-2.81c.8-.78.8-2.07 0-2.86zM5.41 20L4 18.59l7.72-7.72 1.47 1.35L5.41 20z\"/>\n",
              "  </svg>\n",
              "      </button>\n",
              "      \n",
              "  <style>\n",
              "    .colab-df-container {\n",
              "      display:flex;\n",
              "      flex-wrap:wrap;\n",
              "      gap: 12px;\n",
              "    }\n",
              "\n",
              "    .colab-df-convert {\n",
              "      background-color: #E8F0FE;\n",
              "      border: none;\n",
              "      border-radius: 50%;\n",
              "      cursor: pointer;\n",
              "      display: none;\n",
              "      fill: #1967D2;\n",
              "      height: 32px;\n",
              "      padding: 0 0 0 0;\n",
              "      width: 32px;\n",
              "    }\n",
              "\n",
              "    .colab-df-convert:hover {\n",
              "      background-color: #E2EBFA;\n",
              "      box-shadow: 0px 1px 2px rgba(60, 64, 67, 0.3), 0px 1px 3px 1px rgba(60, 64, 67, 0.15);\n",
              "      fill: #174EA6;\n",
              "    }\n",
              "\n",
              "    [theme=dark] .colab-df-convert {\n",
              "      background-color: #3B4455;\n",
              "      fill: #D2E3FC;\n",
              "    }\n",
              "\n",
              "    [theme=dark] .colab-df-convert:hover {\n",
              "      background-color: #434B5C;\n",
              "      box-shadow: 0px 1px 3px 1px rgba(0, 0, 0, 0.15);\n",
              "      filter: drop-shadow(0px 1px 2px rgba(0, 0, 0, 0.3));\n",
              "      fill: #FFFFFF;\n",
              "    }\n",
              "  </style>\n",
              "\n",
              "      <script>\n",
              "        const buttonEl =\n",
              "          document.querySelector('#df-e9f8f299-d26a-44ac-98a2-8a798ede0160 button.colab-df-convert');\n",
              "        buttonEl.style.display =\n",
              "          google.colab.kernel.accessAllowed ? 'block' : 'none';\n",
              "\n",
              "        async function convertToInteractive(key) {\n",
              "          const element = document.querySelector('#df-e9f8f299-d26a-44ac-98a2-8a798ede0160');\n",
              "          const dataTable =\n",
              "            await google.colab.kernel.invokeFunction('convertToInteractive',\n",
              "                                                     [key], {});\n",
              "          if (!dataTable) return;\n",
              "\n",
              "          const docLinkHtml = 'Like what you see? Visit the ' +\n",
              "            '<a target=\"_blank\" href=https://colab.research.google.com/notebooks/data_table.ipynb>data table notebook</a>'\n",
              "            + ' to learn more about interactive tables.';\n",
              "          element.innerHTML = '';\n",
              "          dataTable['output_type'] = 'display_data';\n",
              "          await google.colab.output.renderOutput(dataTable, element);\n",
              "          const docLink = document.createElement('div');\n",
              "          docLink.innerHTML = docLinkHtml;\n",
              "          element.appendChild(docLink);\n",
              "        }\n",
              "      </script>\n",
              "    </div>\n",
              "  </div>\n",
              "  "
            ]
          },
          "metadata": {},
          "execution_count": 8
        }
      ],
      "source": [
        "subdf = df[[\"age\", \"yredu\", \"capgain\", \"caploss\", \"workhr\"]]\n",
        "subdf[:3] # show the first 3 records"
      ]
    },
    {
      "cell_type": "markdown",
      "metadata": {
        "id": "2Nru2P0E1pqD"
      },
      "source": [
        "Numpy works nicely with pandas, like below:"
      ]
    },
    {
      "cell_type": "code",
      "execution_count": null,
      "metadata": {
        "colab": {
          "base_uri": "https://localhost:8080/"
        },
        "id": "JXrS6tjp1pqE",
        "outputId": "e5f1eab0-89ca-4a3c-c6d4-58a9f0978768"
      },
      "outputs": [
        {
          "output_type": "execute_result",
          "data": {
            "text/plain": [
              "2842700"
            ]
          },
          "metadata": {},
          "execution_count": 9
        }
      ],
      "source": [
        "np.sum(subdf[\"caploss\"])"
      ]
    },
    {
      "cell_type": "markdown",
      "metadata": {
        "id": "Mv5mbxDM1pqH"
      },
      "source": [
        "Just like numpy arrays, you can modify\n",
        "entire columns of data rather than one scalar element at a time.\n",
        "For example, the code  \n",
        "\n",
        "`df[\"age\"] = df[\"age\"] + 1` \n",
        "\n",
        "would increment everyone's age by 1."
      ]
    },
    {
      "cell_type": "code",
      "execution_count": null,
      "metadata": {
        "colab": {
          "base_uri": "https://localhost:8080/"
        },
        "collapsed": true,
        "id": "k5rlWD7-1pqH",
        "outputId": "1da1be82-566f-44a6-81ec-da87492fe3de"
      },
      "outputs": [
        {
          "output_type": "stream",
          "name": "stdout",
          "text": [
            "Max: 90\n",
            "Min: 17\n",
            "Avg: 38.58164675532078\n"
          ]
        }
      ],
      "source": [
        "print('Max:', (df['age']).max())\n",
        "print('Min:', (df['age']).min())\n",
        "print('Avg:', (df['age']).mean())\n"
      ]
    },
    {
      "cell_type": "code",
      "execution_count": null,
      "metadata": {
        "colab": {
          "base_uri": "https://localhost:8080/"
        },
        "id": "3KaCS436F2Ph",
        "outputId": "5235f38a-47a8-4d87-90a5-9d6365206366"
      },
      "outputs": [
        {
          "output_type": "stream",
          "name": "stdout",
          "text": [
            "Max: 16\n",
            "Min: 1\n",
            "Avg: 10.0806793403151\n"
          ]
        }
      ],
      "source": [
        "print('Max:', (df['yredu']).max())\n",
        "print('Min:', (df['yredu']).min())\n",
        "print('Avg:', (df['yredu']).mean())"
      ]
    },
    {
      "cell_type": "code",
      "execution_count": null,
      "metadata": {
        "colab": {
          "base_uri": "https://localhost:8080/"
        },
        "id": "x03WcOrcF6y2",
        "outputId": "a74beecd-0b1c-4c57-cfc3-b4aa2bab40ca"
      },
      "outputs": [
        {
          "output_type": "stream",
          "name": "stdout",
          "text": [
            "Max: 99999\n",
            "Min: 0\n",
            "Avg: 1077.6488437087312\n"
          ]
        }
      ],
      "source": [
        "print('Max:', (df['capgain']).max())\n",
        "print('Min:', (df['capgain']).min())\n",
        "print('Avg:', (df['capgain']).mean())"
      ]
    },
    {
      "cell_type": "code",
      "execution_count": null,
      "metadata": {
        "colab": {
          "base_uri": "https://localhost:8080/"
        },
        "id": "qxrec3r6GBAp",
        "outputId": "1f495470-166f-450a-9646-8c06d9cb2531"
      },
      "outputs": [
        {
          "output_type": "stream",
          "name": "stdout",
          "text": [
            "Max: 4356\n",
            "Min: 0\n",
            "Avg: 87.303829734959\n"
          ]
        }
      ],
      "source": [
        "print('Max:', (df['caploss']).max())\n",
        "print('Min:', (df['caploss']).min())\n",
        "print('Avg:', (df['caploss']).mean())"
      ]
    },
    {
      "cell_type": "code",
      "execution_count": null,
      "metadata": {
        "colab": {
          "base_uri": "https://localhost:8080/"
        },
        "id": "z45QvYP7GHP5",
        "outputId": "e64af0d3-ef57-4fcf-b4ca-973bb9dd1bf5"
      },
      "outputs": [
        {
          "output_type": "stream",
          "name": "stdout",
          "text": [
            "Max: 99\n",
            "Min: 1\n",
            "Avg: 40.437455852092995\n"
          ]
        }
      ],
      "source": [
        "print('Max:', (df['workhr']).max())\n",
        "print('Min:', (df['workhr']).min())\n",
        "print('Avg:', (df['workhr']).mean())"
      ]
    },
    {
      "cell_type": "markdown",
      "metadata": {
        "id": "Xq-zpyW2GxXT"
      },
      "source": [
        "Normalize features:"
      ]
    },
    {
      "cell_type": "code",
      "execution_count": null,
      "metadata": {
        "id": "bmkKoFmZGiZG"
      },
      "outputs": [],
      "source": [
        "df[\"age\"] = (df[\"age\"]-(df['age']).min()) / ((df['age']).max() - (df['age']).min())\n",
        "df[\"yredu\"] = (df[\"yredu\"]-(df['yredu']).min()) / ((df['yredu']).max() - (df['yredu']).min())\n",
        "df[\"capgain\"] = (df[\"capgain\"]-(df['capgain']).min()) / ((df['capgain']).max() - (df['capgain']).min())\n",
        "df[\"caploss\"] = (df[\"caploss\"]-(df['caploss']).min()) / ((df['caploss']).max() - (df['caploss']).min())\n",
        "df[\"workhr\"] = (df[\"workhr\"]-(df['workhr']).min()) / ((df['workhr']).max() - (df['workhr']).min())"
      ]
    },
    {
      "cell_type": "markdown",
      "metadata": {
        "id": "u7jNPblBGmUC"
      },
      "source": [
        "Verification that features have been normalized:"
      ]
    },
    {
      "cell_type": "code",
      "execution_count": null,
      "metadata": {
        "colab": {
          "base_uri": "https://localhost:8080/"
        },
        "id": "2J2idqOEGjF0",
        "outputId": "6b3fd120-6257-494d-abec-29fcee65acd8"
      },
      "outputs": [
        {
          "output_type": "stream",
          "name": "stdout",
          "text": [
            "Max: 1.0\n",
            "Min: 0.0\n",
            "Avg: 0.40242301889890814\n"
          ]
        }
      ],
      "source": [
        "print('Max:', (df['workhr']).max())\n",
        "print('Min:', (df['workhr']).min())\n",
        "print('Avg:', (df['workhr']).mean())"
      ]
    },
    {
      "cell_type": "markdown",
      "metadata": {
        "id": "qbfMly4R1pqK"
      },
      "source": [
        "### Part (b) Categorical Features [1 pt]\n",
        "\n",
        "What percentage of people in our data set are male? Note that the data labels all have an unfortunate space in the beginning, e.g. \" Male\" instead of \"Male\".\n",
        "\n",
        "What percentage of people in our data set are female?"
      ]
    },
    {
      "cell_type": "code",
      "execution_count": null,
      "metadata": {
        "id": "DjAjcsB_1pqK"
      },
      "outputs": [],
      "source": [
        "# hint: you can do something like this in pandas\n",
        "male= sum(df[\"sex\"] == \" Male\")"
      ]
    },
    {
      "cell_type": "code",
      "execution_count": null,
      "metadata": {
        "id": "or-20KOcHM87"
      },
      "outputs": [],
      "source": [
        "fem = sum(df[\"sex\"] == \" Female\")"
      ]
    },
    {
      "cell_type": "code",
      "execution_count": null,
      "metadata": {
        "id": "WNfpA6G_G2q2"
      },
      "outputs": [],
      "source": [
        "total = sum(df[\"sex\"] == \" Female\") + sum(df[\"sex\"] == \" Male\")"
      ]
    },
    {
      "cell_type": "markdown",
      "metadata": {
        "id": "VMpxfhUXLELo"
      },
      "source": [
        "Percentage of people who are male:"
      ]
    },
    {
      "cell_type": "code",
      "execution_count": null,
      "metadata": {
        "colab": {
          "base_uri": "https://localhost:8080/"
        },
        "id": "KwQaVnYpH5cg",
        "outputId": "8a881ff9-e642-46d9-87e2-3e9b43567042"
      },
      "outputs": [
        {
          "output_type": "execute_result",
          "data": {
            "text/plain": [
              "66.92054912318419"
            ]
          },
          "metadata": {},
          "execution_count": 19
        }
      ],
      "source": [
        "(male/total)*100"
      ]
    },
    {
      "cell_type": "markdown",
      "metadata": {
        "id": "7icaLUu7LID1"
      },
      "source": [
        "Percentage of people who are female:"
      ]
    },
    {
      "cell_type": "code",
      "execution_count": null,
      "metadata": {
        "colab": {
          "base_uri": "https://localhost:8080/"
        },
        "id": "NwYgXmLYIDrf",
        "outputId": "6cb53c37-c437-400b-b41e-9da118ab2f78"
      },
      "outputs": [
        {
          "output_type": "execute_result",
          "data": {
            "text/plain": [
              "33.07945087681583"
            ]
          },
          "metadata": {},
          "execution_count": 20
        }
      ],
      "source": [
        "(fem/total)*100"
      ]
    },
    {
      "cell_type": "markdown",
      "metadata": {
        "id": "eGVw7pqL1pqN"
      },
      "source": [
        "### Part (c) [2 pt]\n",
        "\n",
        "Before proceeding, we will modify our data frame in a couple more ways:\n",
        "\n",
        "1. We will restrict ourselves to using a subset of the features (to simplify our autoencoder)\n",
        "2. We will remove any records (rows) already containing missing values, and store them in a second dataframe. We will only use records without missing values to train our autoencoder.\n",
        "\n",
        "Both of these steps are done for you, below.\n",
        "\n",
        "How many records contained missing features? What percentage of records were removed?"
      ]
    },
    {
      "cell_type": "code",
      "execution_count": null,
      "metadata": {
        "collapsed": true,
        "id": "z6ewPUdv1pqO"
      },
      "outputs": [],
      "source": [
        "contcols = [\"age\", \"yredu\", \"capgain\", \"caploss\", \"workhr\"]  #Wt exactly is happening here?\n",
        "catcols = [\"work\", \"marriage\", \"occupation\", \"edu\", \"relationship\", \"sex\"]\n",
        "features = contcols + catcols\n",
        "df = df[features]"
      ]
    },
    {
      "cell_type": "code",
      "execution_count": null,
      "metadata": {
        "collapsed": true,
        "id": "fjdVll5a1pqQ"
      },
      "outputs": [],
      "source": [
        "missing = pd.concat([df[c] == \" ?\" for c in catcols], axis=1).any(axis=1)\n",
        "df_with_missing = df[missing]  #how can we get to know which column heading this has? Is it like below?\n",
        "df_not_missing = df[~missing]"
      ]
    },
    {
      "cell_type": "code",
      "execution_count": null,
      "metadata": {
        "colab": {
          "base_uri": "https://localhost:8080/"
        },
        "id": "fiTqUWdDNIp2",
        "outputId": "fd3f92c3-bd7f-4729-97c7-152bcfbd9ba0"
      },
      "outputs": [
        {
          "output_type": "stream",
          "name": "stdout",
          "text": [
            "Index(['age', 'yredu', 'capgain', 'caploss', 'workhr', 'work', 'marriage',\n",
            "       'occupation', 'edu', 'relationship', 'sex'],\n",
            "      dtype='object')\n"
          ]
        }
      ],
      "source": [
        "print(df_not_missing.columns)"
      ]
    },
    {
      "cell_type": "markdown",
      "metadata": {
        "id": "SHGmiZ6QLfks"
      },
      "source": [
        "Number of records which contained missing features:"
      ]
    },
    {
      "cell_type": "code",
      "execution_count": null,
      "metadata": {
        "colab": {
          "base_uri": "https://localhost:8080/"
        },
        "id": "Rljn4RIcKLtd",
        "outputId": "cb7a4239-96ee-457d-a018-1e482649479a"
      },
      "outputs": [
        {
          "output_type": "stream",
          "name": "stdout",
          "text": [
            "1843\n"
          ]
        }
      ],
      "source": [
        "missing = len(df_with_missing)\n",
        "print(missing)"
      ]
    },
    {
      "cell_type": "code",
      "execution_count": null,
      "metadata": {
        "colab": {
          "base_uri": "https://localhost:8080/"
        },
        "id": "jyb24K5xKZ5v",
        "outputId": "ecfed2ef-80ae-4a55-e169-24ae64375490"
      },
      "outputs": [
        {
          "output_type": "stream",
          "name": "stdout",
          "text": [
            "32561\n"
          ]
        }
      ],
      "source": [
        "total = missing + len(df_not_missing)\n",
        "print(total)"
      ]
    },
    {
      "cell_type": "markdown",
      "metadata": {
        "id": "9g7zn1t6LmnW"
      },
      "source": [
        "The percentage of records removed:"
      ]
    },
    {
      "cell_type": "code",
      "execution_count": null,
      "metadata": {
        "colab": {
          "base_uri": "https://localhost:8080/"
        },
        "id": "wyJ08PyrKSAN",
        "outputId": "b67a2f6c-bd71-4fd0-c9e0-6857b8388884"
      },
      "outputs": [
        {
          "name": "stdout",
          "output_type": "stream",
          "text": [
            "5.660145572924664\n"
          ]
        }
      ],
      "source": [
        "print((missing/total)*100)"
      ]
    },
    {
      "cell_type": "markdown",
      "metadata": {
        "id": "XuEpndTQ1pqU"
      },
      "source": [
        "### Part (d) One-Hot Encoding [1 pt]\n",
        "\n",
        "What are all the possible values of the feature \"work\" in `df_not_missing`? You may find the Python function `set` useful."
      ]
    },
    {
      "cell_type": "code",
      "execution_count": null,
      "metadata": {
        "colab": {
          "base_uri": "https://localhost:8080/"
        },
        "id": "eH2blqO_NRSC",
        "outputId": "696eac94-63b7-421f-ca75-98d968069dec"
      },
      "outputs": [
        {
          "output_type": "stream",
          "name": "stdout",
          "text": [
            "{0.3013698630136986, 0.4931506849315068, 0.1506849315068493, 0.2876712328767123, 0.4520547945205479, 0.273972602739726, 0.4383561643835616, 0.4794520547945205, 0.1917808219178082, 0.3424657534246575, 0.3150684931506849, 0.0, 1.0, 0.0684931506849315, 0.6301369863013698, 0.684931506849315, 0.7534246575342466, 0.5068493150684932, 0.3835616438356164, 0.821917808219178, 0.9452054794520548, 0.2602739726027397, 0.5753424657534246, 0.136986301369863, 0.6986301369863014, 0.0136986301369863, 0.3287671232876712, 0.7671232876712328, 0.8904109589041096, 0.2054794520547945, 0.0821917808219178, 0.5205479452054794, 0.6438356164383562, 0.3972602739726027, 0.7123287671232876, 0.8356164383561644, 0.0273972602739726, 0.4657534246575342, 0.589041095890411, 0.9041095890410958, 0.8767123287671232, 0.2191780821917808, 0.6575342465753424, 0.7808219178082192, 0.0958904109589041, 0.5342465753424658, 0.410958904109589, 0.8493150684931506, 0.9726027397260274, 0.1643835616438356, 0.8082191780821918, 0.6027397260273972, 0.726027397260274, 0.0410958904109589, 0.3561643835616438, 0.7945205479452054, 0.9178082191780822, 0.2328767123287671, 0.1095890410958904, 0.547945205479452, 0.6712328767123288, 0.4246575342465753, 0.7397260273972602, 0.5616438356164384, 0.863013698630137, 0.1780821917808219, 0.0547945205479452, 0.6164383561643836, 0.9315068493150684, 0.3698630136986301, 0.2465753424657534, 0.1232876712328767}\n"
          ]
        }
      ],
      "source": [
        "print(set(df_not_missing[\"age\"])) #what does this signify?? --> age is not categorical hence it shows up the values instead of all the classes!"
      ]
    },
    {
      "cell_type": "code",
      "execution_count": null,
      "metadata": {
        "colab": {
          "base_uri": "https://localhost:8080/"
        },
        "collapsed": true,
        "id": "iKFh4owE1pqV",
        "outputId": "3c449b74-a636-4c08-f4b4-5fc130b9fcf2"
      },
      "outputs": [
        {
          "output_type": "stream",
          "name": "stdout",
          "text": [
            "{' Without-pay', ' Federal-gov', ' Local-gov', ' Self-emp-inc', ' Private', ' State-gov', ' Self-emp-not-inc'}\n"
          ]
        }
      ],
      "source": [
        "print(set(df_not_missing[\"work\"])) "
      ]
    },
    {
      "cell_type": "markdown",
      "metadata": {
        "id": "COv3HaKr1pqY"
      },
      "source": [
        "We will be using a one-hot encoding to represent each of the categorical variables.\n",
        "Our autoencoder will be trained using these one-hot encodings.\n",
        "\n",
        "We will use the pandas function `get_dummies` to produce one-hot encodings\n",
        "for all of the categorical variables in `df_not_missing`. "
      ]
    },
    {
      "cell_type": "code",
      "execution_count": null,
      "metadata": {
        "collapsed": true,
        "id": "eKlSYmJg1pqZ"
      },
      "outputs": [],
      "source": [
        "data = pd.get_dummies(df_not_missing)"
      ]
    },
    {
      "cell_type": "code",
      "execution_count": null,
      "metadata": {
        "colab": {
          "base_uri": "https://localhost:8080/",
          "height": 306
        },
        "collapsed": true,
        "id": "3y7nTZ7H1pqb",
        "outputId": "5ed17aaa-4c67-47c7-cba6-8969dbab6022",
        "scrolled": true
      },
      "outputs": [
        {
          "output_type": "execute_result",
          "data": {
            "text/plain": [
              "        age     yredu  capgain  caploss    workhr  work_ Federal-gov  \\\n",
              "0  0.301370  0.800000  0.02174      0.0  0.397959                  0   \n",
              "1  0.452055  0.800000  0.00000      0.0  0.122449                  0   \n",
              "2  0.287671  0.533333  0.00000      0.0  0.397959                  0   \n",
              "\n",
              "   work_ Local-gov  work_ Private  work_ Self-emp-inc  work_ Self-emp-not-inc  \\\n",
              "0                0              0                   0                       0   \n",
              "1                0              0                   0                       1   \n",
              "2                0              1                   0                       0   \n",
              "\n",
              "   ...  edu_ Prof-school  edu_ Some-college  relationship_ Husband  \\\n",
              "0  ...                 0                  0                      0   \n",
              "1  ...                 0                  0                      1   \n",
              "2  ...                 0                  0                      0   \n",
              "\n",
              "   relationship_ Not-in-family  relationship_ Other-relative  \\\n",
              "0                            1                             0   \n",
              "1                            0                             0   \n",
              "2                            1                             0   \n",
              "\n",
              "   relationship_ Own-child  relationship_ Unmarried  relationship_ Wife  \\\n",
              "0                        0                        0                   0   \n",
              "1                        0                        0                   0   \n",
              "2                        0                        0                   0   \n",
              "\n",
              "   sex_ Female  sex_ Male  \n",
              "0            0          1  \n",
              "1            0          1  \n",
              "2            0          1  \n",
              "\n",
              "[3 rows x 57 columns]"
            ],
            "text/html": [
              "\n",
              "  <div id=\"df-3dc13e92-bc3e-438d-bd78-4c19deaf133d\">\n",
              "    <div class=\"colab-df-container\">\n",
              "      <div>\n",
              "<style scoped>\n",
              "    .dataframe tbody tr th:only-of-type {\n",
              "        vertical-align: middle;\n",
              "    }\n",
              "\n",
              "    .dataframe tbody tr th {\n",
              "        vertical-align: top;\n",
              "    }\n",
              "\n",
              "    .dataframe thead th {\n",
              "        text-align: right;\n",
              "    }\n",
              "</style>\n",
              "<table border=\"1\" class=\"dataframe\">\n",
              "  <thead>\n",
              "    <tr style=\"text-align: right;\">\n",
              "      <th></th>\n",
              "      <th>age</th>\n",
              "      <th>yredu</th>\n",
              "      <th>capgain</th>\n",
              "      <th>caploss</th>\n",
              "      <th>workhr</th>\n",
              "      <th>work_ Federal-gov</th>\n",
              "      <th>work_ Local-gov</th>\n",
              "      <th>work_ Private</th>\n",
              "      <th>work_ Self-emp-inc</th>\n",
              "      <th>work_ Self-emp-not-inc</th>\n",
              "      <th>...</th>\n",
              "      <th>edu_ Prof-school</th>\n",
              "      <th>edu_ Some-college</th>\n",
              "      <th>relationship_ Husband</th>\n",
              "      <th>relationship_ Not-in-family</th>\n",
              "      <th>relationship_ Other-relative</th>\n",
              "      <th>relationship_ Own-child</th>\n",
              "      <th>relationship_ Unmarried</th>\n",
              "      <th>relationship_ Wife</th>\n",
              "      <th>sex_ Female</th>\n",
              "      <th>sex_ Male</th>\n",
              "    </tr>\n",
              "  </thead>\n",
              "  <tbody>\n",
              "    <tr>\n",
              "      <th>0</th>\n",
              "      <td>0.301370</td>\n",
              "      <td>0.800000</td>\n",
              "      <td>0.02174</td>\n",
              "      <td>0.0</td>\n",
              "      <td>0.397959</td>\n",
              "      <td>0</td>\n",
              "      <td>0</td>\n",
              "      <td>0</td>\n",
              "      <td>0</td>\n",
              "      <td>0</td>\n",
              "      <td>...</td>\n",
              "      <td>0</td>\n",
              "      <td>0</td>\n",
              "      <td>0</td>\n",
              "      <td>1</td>\n",
              "      <td>0</td>\n",
              "      <td>0</td>\n",
              "      <td>0</td>\n",
              "      <td>0</td>\n",
              "      <td>0</td>\n",
              "      <td>1</td>\n",
              "    </tr>\n",
              "    <tr>\n",
              "      <th>1</th>\n",
              "      <td>0.452055</td>\n",
              "      <td>0.800000</td>\n",
              "      <td>0.00000</td>\n",
              "      <td>0.0</td>\n",
              "      <td>0.122449</td>\n",
              "      <td>0</td>\n",
              "      <td>0</td>\n",
              "      <td>0</td>\n",
              "      <td>0</td>\n",
              "      <td>1</td>\n",
              "      <td>...</td>\n",
              "      <td>0</td>\n",
              "      <td>0</td>\n",
              "      <td>1</td>\n",
              "      <td>0</td>\n",
              "      <td>0</td>\n",
              "      <td>0</td>\n",
              "      <td>0</td>\n",
              "      <td>0</td>\n",
              "      <td>0</td>\n",
              "      <td>1</td>\n",
              "    </tr>\n",
              "    <tr>\n",
              "      <th>2</th>\n",
              "      <td>0.287671</td>\n",
              "      <td>0.533333</td>\n",
              "      <td>0.00000</td>\n",
              "      <td>0.0</td>\n",
              "      <td>0.397959</td>\n",
              "      <td>0</td>\n",
              "      <td>0</td>\n",
              "      <td>1</td>\n",
              "      <td>0</td>\n",
              "      <td>0</td>\n",
              "      <td>...</td>\n",
              "      <td>0</td>\n",
              "      <td>0</td>\n",
              "      <td>0</td>\n",
              "      <td>1</td>\n",
              "      <td>0</td>\n",
              "      <td>0</td>\n",
              "      <td>0</td>\n",
              "      <td>0</td>\n",
              "      <td>0</td>\n",
              "      <td>1</td>\n",
              "    </tr>\n",
              "  </tbody>\n",
              "</table>\n",
              "<p>3 rows × 57 columns</p>\n",
              "</div>\n",
              "      <button class=\"colab-df-convert\" onclick=\"convertToInteractive('df-3dc13e92-bc3e-438d-bd78-4c19deaf133d')\"\n",
              "              title=\"Convert this dataframe to an interactive table.\"\n",
              "              style=\"display:none;\">\n",
              "        \n",
              "  <svg xmlns=\"http://www.w3.org/2000/svg\" height=\"24px\"viewBox=\"0 0 24 24\"\n",
              "       width=\"24px\">\n",
              "    <path d=\"M0 0h24v24H0V0z\" fill=\"none\"/>\n",
              "    <path d=\"M18.56 5.44l.94 2.06.94-2.06 2.06-.94-2.06-.94-.94-2.06-.94 2.06-2.06.94zm-11 1L8.5 8.5l.94-2.06 2.06-.94-2.06-.94L8.5 2.5l-.94 2.06-2.06.94zm10 10l.94 2.06.94-2.06 2.06-.94-2.06-.94-.94-2.06-.94 2.06-2.06.94z\"/><path d=\"M17.41 7.96l-1.37-1.37c-.4-.4-.92-.59-1.43-.59-.52 0-1.04.2-1.43.59L10.3 9.45l-7.72 7.72c-.78.78-.78 2.05 0 2.83L4 21.41c.39.39.9.59 1.41.59.51 0 1.02-.2 1.41-.59l7.78-7.78 2.81-2.81c.8-.78.8-2.07 0-2.86zM5.41 20L4 18.59l7.72-7.72 1.47 1.35L5.41 20z\"/>\n",
              "  </svg>\n",
              "      </button>\n",
              "      \n",
              "  <style>\n",
              "    .colab-df-container {\n",
              "      display:flex;\n",
              "      flex-wrap:wrap;\n",
              "      gap: 12px;\n",
              "    }\n",
              "\n",
              "    .colab-df-convert {\n",
              "      background-color: #E8F0FE;\n",
              "      border: none;\n",
              "      border-radius: 50%;\n",
              "      cursor: pointer;\n",
              "      display: none;\n",
              "      fill: #1967D2;\n",
              "      height: 32px;\n",
              "      padding: 0 0 0 0;\n",
              "      width: 32px;\n",
              "    }\n",
              "\n",
              "    .colab-df-convert:hover {\n",
              "      background-color: #E2EBFA;\n",
              "      box-shadow: 0px 1px 2px rgba(60, 64, 67, 0.3), 0px 1px 3px 1px rgba(60, 64, 67, 0.15);\n",
              "      fill: #174EA6;\n",
              "    }\n",
              "\n",
              "    [theme=dark] .colab-df-convert {\n",
              "      background-color: #3B4455;\n",
              "      fill: #D2E3FC;\n",
              "    }\n",
              "\n",
              "    [theme=dark] .colab-df-convert:hover {\n",
              "      background-color: #434B5C;\n",
              "      box-shadow: 0px 1px 3px 1px rgba(0, 0, 0, 0.15);\n",
              "      filter: drop-shadow(0px 1px 2px rgba(0, 0, 0, 0.3));\n",
              "      fill: #FFFFFF;\n",
              "    }\n",
              "  </style>\n",
              "\n",
              "      <script>\n",
              "        const buttonEl =\n",
              "          document.querySelector('#df-3dc13e92-bc3e-438d-bd78-4c19deaf133d button.colab-df-convert');\n",
              "        buttonEl.style.display =\n",
              "          google.colab.kernel.accessAllowed ? 'block' : 'none';\n",
              "\n",
              "        async function convertToInteractive(key) {\n",
              "          const element = document.querySelector('#df-3dc13e92-bc3e-438d-bd78-4c19deaf133d');\n",
              "          const dataTable =\n",
              "            await google.colab.kernel.invokeFunction('convertToInteractive',\n",
              "                                                     [key], {});\n",
              "          if (!dataTable) return;\n",
              "\n",
              "          const docLinkHtml = 'Like what you see? Visit the ' +\n",
              "            '<a target=\"_blank\" href=https://colab.research.google.com/notebooks/data_table.ipynb>data table notebook</a>'\n",
              "            + ' to learn more about interactive tables.';\n",
              "          element.innerHTML = '';\n",
              "          dataTable['output_type'] = 'display_data';\n",
              "          await google.colab.output.renderOutput(dataTable, element);\n",
              "          const docLink = document.createElement('div');\n",
              "          docLink.innerHTML = docLinkHtml;\n",
              "          element.appendChild(docLink);\n",
              "        }\n",
              "      </script>\n",
              "    </div>\n",
              "  </div>\n",
              "  "
            ]
          },
          "metadata": {},
          "execution_count": 27
        }
      ],
      "source": [
        "data[:3]"
      ]
    },
    {
      "cell_type": "markdown",
      "metadata": {
        "id": "HwjDg1uM1pqe"
      },
      "source": [
        "### Part (e) One-Hot Encoding [2 pt]\n",
        "\n",
        "The dataframe `data` contains the cleaned and normalized data that we will use to train our denoising autoencoder.\n",
        "\n",
        "How many **columns** (features) are in the dataframe `data`?\n",
        "\n",
        "Briefly explain where that number come from."
      ]
    },
    {
      "cell_type": "code",
      "execution_count": null,
      "metadata": {
        "colab": {
          "base_uri": "https://localhost:8080/"
        },
        "collapsed": true,
        "id": "yjZ5N0Tl1pqf",
        "outputId": "4ac32277-2f8f-4be6-ac40-16a4bcd02b5a"
      },
      "outputs": [
        {
          "name": "stdout",
          "output_type": "stream",
          "text": [
            "Index(['age', 'yredu', 'capgain', 'caploss', 'workhr', 'work_ Federal-gov',\n",
            "       'work_ Local-gov', 'work_ Private', 'work_ Self-emp-inc',\n",
            "       'work_ Self-emp-not-inc', 'work_ State-gov', 'work_ Without-pay',\n",
            "       'marriage_ Divorced', 'marriage_ Married-AF-spouse',\n",
            "       'marriage_ Married-civ-spouse', 'marriage_ Married-spouse-absent',\n",
            "       'marriage_ Never-married', 'marriage_ Separated', 'marriage_ Widowed',\n",
            "       'occupation_ Adm-clerical', 'occupation_ Armed-Forces',\n",
            "       'occupation_ Craft-repair', 'occupation_ Exec-managerial',\n",
            "       'occupation_ Farming-fishing', 'occupation_ Handlers-cleaners',\n",
            "       'occupation_ Machine-op-inspct', 'occupation_ Other-service',\n",
            "       'occupation_ Priv-house-serv', 'occupation_ Prof-specialty',\n",
            "       'occupation_ Protective-serv', 'occupation_ Sales',\n",
            "       'occupation_ Tech-support', 'occupation_ Transport-moving', 'edu_ 10th',\n",
            "       'edu_ 11th', 'edu_ 12th', 'edu_ 1st-4th', 'edu_ 5th-6th',\n",
            "       'edu_ 7th-8th', 'edu_ 9th', 'edu_ Assoc-acdm', 'edu_ Assoc-voc',\n",
            "       'edu_ Bachelors', 'edu_ Doctorate', 'edu_ HS-grad', 'edu_ Masters',\n",
            "       'edu_ Preschool', 'edu_ Prof-school', 'edu_ Some-college',\n",
            "       'relationship_ Husband', 'relationship_ Not-in-family',\n",
            "       'relationship_ Other-relative', 'relationship_ Own-child',\n",
            "       'relationship_ Unmarried', 'relationship_ Wife', 'sex_ Female',\n",
            "       'sex_ Male'],\n",
            "      dtype='object')\n"
          ]
        }
      ],
      "source": [
        "print(data.columns)"
      ]
    },
    {
      "cell_type": "code",
      "execution_count": null,
      "metadata": {
        "colab": {
          "base_uri": "https://localhost:8080/"
        },
        "id": "JJ-st02-NkXu",
        "outputId": "054b5b43-9b84-4837-d611-0c091cc4cbb0"
      },
      "outputs": [
        {
          "name": "stdout",
          "output_type": "stream",
          "text": [
            "57\n"
          ]
        }
      ],
      "source": [
        "print(len(data.columns))"
      ]
    },
    {
      "cell_type": "markdown",
      "metadata": {
        "id": "lGWJMTcTN2wv"
      },
      "source": [
        "We got 57 columns since using the get_dummies function divided the catergorical variables into seperate variables. For example as we can see above, since work is a categorical variable, it got split into 7 seperate columns each having their specific one-hot encoding depending on the category. Due to this we got a total of 57 columns.\n",
        "\n",
        "\n"
      ]
    },
    {
      "cell_type": "markdown",
      "metadata": {
        "id": "OEJ0Ci3l1pqh"
      },
      "source": [
        "### Part (f) One-Hot Conversion [3 pt]\n",
        "\n",
        "We will convert the pandas data frame `data` into numpy, so that\n",
        "it can be further converted into a PyTorch tensor.\n",
        "However, in doing so, we lose the column label information that\n",
        "a panda data frame automatically stores.\n",
        "\n",
        "Complete the function `get_categorical_value` that will return\n",
        "the named value of a feature given a one-hot embedding.\n",
        "You may find the global variables `cat_index` and `cat_values`\n",
        "useful. (Display them and figure out what they are first.)\n",
        "\n",
        "We will need this function in the next part of the lab\n",
        "to interpret our autoencoder outputs. So, the input\n",
        "to our function `get_categorical_values` might not \n",
        "actually be \"one-hot\" -- the input may instead \n",
        "contain real-valued predictions from our neural network."
      ]
    },
    {
      "cell_type": "code",
      "execution_count": null,
      "metadata": {
        "collapsed": true,
        "id": "ZmovX6gu1pqi"
      },
      "outputs": [],
      "source": [
        "datanp = data.values.astype(np.float32)"
      ]
    },
    {
      "cell_type": "code",
      "execution_count": null,
      "metadata": {
        "collapsed": true,
        "id": "YRIa5MBd1pql"
      },
      "outputs": [],
      "source": [
        "cat_index = {}  # Mapping of feature -> start index of feature in a record\n",
        "cat_values = {} # Mapping of feature -> list of categorical values the feature can take\n",
        "\n",
        "# build up the cat_index and cat_values dictionary\n",
        "for i, header in enumerate(data.keys()):\n",
        "    if \"_\" in header: # categorical header\n",
        "        feature, value = header.split()\n",
        "        feature = feature[:-1] # remove the last char; it is always an underscore\n",
        "        if feature not in cat_index:\n",
        "            cat_index[feature] = i\n",
        "            cat_values[feature] = [value]\n",
        "        else:\n",
        "            cat_values[feature].append(value)\n",
        "\n",
        "def get_onehot(record, feature): #What exactly is this doing?\n",
        "    \"\"\"\n",
        "    Return the portion of `record` that is the one-hot encoding\n",
        "    of `feature`. For example, since the feature \"work\" is stored\n",
        "    in the indices [5:12] in each record, calling `get_range(record, \"work\")`\n",
        "    is equivalent to accessing `record[5:12]`.\n",
        "    \n",
        "    Args:\n",
        "        - record: a numpy array representing one record, formatted\n",
        "                  the same way as a row in `data.np`\n",
        "        - feature: a string, should be an element of `catcols`\n",
        "    \"\"\"\n",
        "    start_index = cat_index[feature]\n",
        "    stop_index = cat_index[feature] + len(cat_values[feature])\n",
        "    return record[start_index:stop_index]\n",
        "\n",
        "def get_categorical_value(onehot, feature):\n",
        "    \"\"\"\n",
        "    Return the categorical value name of a feature given\n",
        "    a one-hot vector representing the feature.\n",
        "    \n",
        "    Args:\n",
        "        - onehot: a numpy array one-hot representation of the feature\n",
        "        - feature: a string, should be an element of `catcols`\n",
        "        \n",
        "    Examples:\n",
        "    \n",
        "    >>> get_categorical_value(np.array([0., 0., 0., 0., 0., 1., 0.]), \"work\")\n",
        "    'State-gov'\n",
        "    >>> get_categorical_value(np.array([0.1, 0., 1.1, 0.2, 0., 1., 0.]), \"work\")\n",
        "    'Private'\n",
        "    \"\"\"\n",
        "    # <----- TODO: WRITE YOUR CODE HERE ----->\n",
        "    # You may find the variables `cat_index` and `cat_values` \n",
        "    # (created above) useful.\n",
        "    return cat_values[feature][np.argmax(onehot)]"
      ]
    },
    {
      "cell_type": "code",
      "execution_count": null,
      "metadata": {
        "colab": {
          "base_uri": "https://localhost:8080/",
          "height": 36
        },
        "id": "hnvOeP__jXwX",
        "outputId": "e6c34bf5-ef0a-4b35-d20f-07dbe07b8b5e"
      },
      "outputs": [
        {
          "data": {
            "application/vnd.google.colaboratory.intrinsic+json": {
              "type": "string"
            },
            "text/plain": [
              "'State-gov'"
            ]
          },
          "execution_count": 87,
          "metadata": {},
          "output_type": "execute_result"
        }
      ],
      "source": [
        "get_categorical_value(np.array([0., 0., 0., 0., 0., 1., 0.]), \"work\")"
      ]
    },
    {
      "cell_type": "code",
      "execution_count": null,
      "metadata": {
        "colab": {
          "base_uri": "https://localhost:8080/",
          "height": 36
        },
        "id": "vV5LzCOYkPQ3",
        "outputId": "3c43562c-3e64-4d77-b8d5-1b5758fea049"
      },
      "outputs": [
        {
          "data": {
            "application/vnd.google.colaboratory.intrinsic+json": {
              "type": "string"
            },
            "text/plain": [
              "'Private'"
            ]
          },
          "execution_count": 88,
          "metadata": {},
          "output_type": "execute_result"
        }
      ],
      "source": [
        "get_categorical_value(np.array([0.1, 0., 1.1, 0.2, 0., 1., 0.]), \"work\")"
      ]
    },
    {
      "cell_type": "code",
      "execution_count": null,
      "metadata": {
        "collapsed": true,
        "id": "T_XXxZdh1pqv"
      },
      "outputs": [],
      "source": [
        "# more useful code, used during training, that depends on the function\n",
        "# you write above\n",
        "\n",
        "def get_feature(record, feature):\n",
        "    \"\"\"\n",
        "    Return the categorical feature value of a record\n",
        "    \"\"\"\n",
        "    onehot = get_onehot(record, feature)\n",
        "    return get_categorical_value(onehot, feature)\n",
        "\n",
        "def get_features(record):\n",
        "    \"\"\"\n",
        "    Return a dictionary of all categorical feature values of a record\n",
        "    \"\"\"\n",
        "    return { f: get_feature(record, f) for f in catcols }"
      ]
    },
    {
      "cell_type": "markdown",
      "metadata": {
        "id": "1_5ZZR_J1pqy"
      },
      "source": [
        "### Part (g) Train/Test Split [3 pt]\n",
        "\n",
        "Randomly split the data into approximately 70% training, 15% validation and 15% test.\n",
        "\n",
        "Report the number of items in your training, validation, and test set."
      ]
    },
    {
      "cell_type": "code",
      "execution_count": null,
      "metadata": {
        "collapsed": true,
        "id": "TE_fTJJf1pqz"
      },
      "outputs": [],
      "source": [
        "# set the numpy seed for reproducibility\n",
        "# https://docs.scipy.org/doc/numpy/reference/generated/numpy.random.seed.html\n",
        "\n",
        "np.random.seed(50)\n",
        "\n",
        "# todo\n",
        "\n",
        "index = np.arange(len(data))\n",
        "np.random.shuffle(index)\n",
        "data1 = int(len(index) * 0.7)\n",
        "data2 = int(len(index) * 0.85)\n",
        "train_index, val_index, test_index = index[:data1], index[data1:data2], index[data2:]\n",
        "train_data = datanp[train_index]\n",
        "valid_data = datanp[val_index]\n",
        "test_data = datanp[test_index]"
      ]
    },
    {
      "cell_type": "code",
      "source": [
        "print(\"Training data:\", len(train_data))\n",
        "print(\"Validation data:\", len(valid_data))\n",
        "print(\"Test data:\", len(test_data))"
      ],
      "metadata": {
        "colab": {
          "base_uri": "https://localhost:8080/"
        },
        "id": "vHR5REX3nGof",
        "outputId": "a36c6b8f-4198-4125-8d85-56bdae04da3d"
      },
      "execution_count": null,
      "outputs": [
        {
          "output_type": "stream",
          "name": "stdout",
          "text": [
            "Training data: 21502\n",
            "Validation data: 4608\n",
            "Test data: 4608\n"
          ]
        }
      ]
    },
    {
      "cell_type": "code",
      "execution_count": null,
      "metadata": {
        "colab": {
          "base_uri": "https://localhost:8080/"
        },
        "id": "NDYfrRMvdynR",
        "outputId": "7774739b-78d5-473a-b452-1e93cfb9e490"
      },
      "outputs": [
        {
          "data": {
            "text/plain": [
              "dtype('float32')"
            ]
          },
          "execution_count": 91,
          "metadata": {},
          "output_type": "execute_result"
        }
      ],
      "source": [
        "train_data.dtype"
      ]
    },
    {
      "cell_type": "markdown",
      "metadata": {
        "id": "h9wJAKOI1pq3"
      },
      "source": [
        "## Part 2. Model Setup [5 pt]\n",
        "\n",
        "### Part (a) [4 pt]\n",
        "\n",
        "Design a fully-connected autoencoder by modifying the `encoder` and `decoder`\n",
        "below.\n",
        "\n",
        "The input to this autoencoder will be the features of the `data`, with\n",
        "one categorical feature recorded as \"missing\". The output of the autoencoder\n",
        "should be the reconstruction of the same features, but with the missing\n",
        "value filled in.\n",
        "\n",
        "**Note**: Do not reduce the dimensionality of the input too much!\n",
        "The output of your embedding is expected to contain information \n",
        "about ~11 features."
      ]
    },
    {
      "cell_type": "code",
      "execution_count": null,
      "metadata": {
        "collapsed": true,
        "id": "f3F--tdn1pq3"
      },
      "outputs": [],
      "source": [
        "from torch import nn\n",
        "\n",
        "class AutoEncoder(nn.Module):\n",
        "    def __init__(self):\n",
        "        super(AutoEncoder, self).__init__()\n",
        "        self.name = \"AutoEncoder\"\n",
        "        self.encoder = nn.Sequential(\n",
        "            nn.Linear(57, 57), # TODO -- FILL OUT THE CODE HERE!\n",
        "            nn.ReLU(),\n",
        "            nn.Linear(57, 45),\n",
        "            nn.ReLU(),\n",
        "            nn.Linear(45, 25)\n",
        "        )\n",
        "        self.decoder = nn.Sequential(\n",
        "            nn.Linear(25, 45),\n",
        "            nn.ReLU(),\n",
        "            nn.Linear(45, 57),\n",
        "            nn.ReLU(),\n",
        "            nn.Linear(57, 57), # TODO -- FILL OUT THE CODE HERE!\n",
        "            nn.Sigmoid() # get to the range (0, 1)\n",
        "        )\n",
        "\n",
        "    def forward(self, x):\n",
        "        x = self.encoder(x)\n",
        "        x = self.decoder(x)\n",
        "        return x"
      ]
    },
    {
      "cell_type": "markdown",
      "metadata": {
        "id": "kuEzTSAv1pq6"
      },
      "source": [
        "### Part (b) [1 pt]\n",
        "\n",
        "Explain why there is a sigmoid activation in the last step of the decoder.\n",
        "\n",
        "(**Note**: the values inside the data frame `data` and the training code in Part 3 might be helpful.)"
      ]
    },
    {
      "cell_type": "markdown",
      "metadata": {
        "id": "K92Ut2ApftM9"
      },
      "source": [
        "The input data has been normalized and get_dummies function has also been used over the data, which means that the data lies between 0 and 1. Now we need to make sure that our output from the Autoencoder architecture defined by us is also matching the range of input data, hence we need to apply sigmoid activation in order for the output data to lie between 0 and 1."
      ]
    },
    {
      "cell_type": "markdown",
      "metadata": {
        "id": "jYwqFWVl1pq8"
      },
      "source": [
        "## Part 3. Training [18] \n",
        "\n",
        "### Part (a) [6 pt]\n",
        "\n",
        "We will train our autoencoder in the following way:\n",
        "\n",
        "- In each iteration, we will hide one of the categorical features using the `zero_out_random_features` function\n",
        "- We will pass the data with one missing feature through the autoencoder, and obtain a reconstruction\n",
        "- We will check how close the reconstruction is compared to the original data -- including the value of the missing feature\n",
        "\n",
        "Complete the code to train the autoencoder, and plot the training and validation loss every few iterations.\n",
        "You may also want to plot training and validation \"accuracy\" every few iterations, as we will define in\n",
        "part (b). You may also want to checkpoint your model every few iterations or epochs.\n",
        "\n",
        "Use `nn.MSELoss()` as your loss function. (Side note: you might recognize that this loss function is not\n",
        "ideal for this problem, but we will use it anyway.)"
      ]
    },
    {
      "cell_type": "code",
      "execution_count": null,
      "metadata": {
        "collapsed": true,
        "id": "IDQA_-dS1pq9"
      },
      "outputs": [],
      "source": [
        "import matplotlib as plt\n",
        "import matplotlib.pyplot as plt\n",
        "from torch.utils.data.dataloader import DataLoader\n",
        "\n",
        "def zero_out_feature(records, feature):\n",
        "    \"\"\" Set the feature missing in records, by setting the appropriate\n",
        "    columns of records to 0\n",
        "    \"\"\"\n",
        "    start_index = cat_index[feature]\n",
        "    stop_index = cat_index[feature] + len(cat_values[feature])\n",
        "    records[:, start_index:stop_index] = 0\n",
        "    return records\n",
        "\n",
        "def zero_out_random_feature(records):\n",
        "    \"\"\" Set one random feature missing in records, by setting the \n",
        "    appropriate columns of records to 0\n",
        "    \"\"\"\n",
        "    return zero_out_feature(records, random.choice(catcols))\n",
        "\n",
        "def train(model, train_data, valid_data, batch_size = 128, num_epochs=5, learning_rate=1e-4):\n",
        "    \"\"\" Training loop. You should update this.\"\"\"\n",
        "    torch.manual_seed(42)\n",
        "    train_loader = DataLoader(train_data, batch_size, shuffle = True,  num_workers = 2, pin_memory = True)\n",
        "    valid_loader = DataLoader(valid_data, batch_size*2, num_workers = 2, pin_memory = True)\n",
        "    criterion = nn.MSELoss()\n",
        "    optimizer = torch.optim.Adam(model.parameters(), lr=learning_rate)\n",
        "    iters, train_loss, val_loss, train_acc, val_acc = [], [], [], [], []\n",
        "\n",
        "    \n",
        "    for epoch in range(num_epochs):\n",
        "        for data in train_loader:\n",
        "            datam = zero_out_random_feature(data.clone()) # zero out one categorical feature\n",
        "            recon = model(datam)\n",
        "            loss = criterion(recon, data)\n",
        "            loss.backward()\n",
        "            optimizer.step()\n",
        "            optimizer.zero_grad()\n",
        "\n",
        "        for data in valid_loader:\n",
        "            datam = zero_out_random_feature(data.clone()) # zero out one categorical feature\n",
        "            recon = model(datam)\n",
        "            loss_val = criterion(recon, data)\n",
        "\n",
        "        iters.append(epoch)\n",
        "        train_loss.append(float(loss)/batch_size)             # compute *average* loss\n",
        "        val_loss.append(float(loss_val)/batch_size)\n",
        "        train_acc.append(get_accuracy(model, train_loader)) # compute training accuracy\n",
        "        print(\"epoch number \", epoch+1, \"accuracy: \",train_acc[epoch])\n",
        "        print(\"Loss: \", train_loss[epoch-1], \"epoch number \", epoch)\n",
        "\n",
        "        val_acc.append(get_accuracy(model, valid_loader))  # compute validation accuracy\n",
        "\n",
        "        model_path = \"model_{0}_bs{1}_lr{2}_epoch{3}\".format(model.name, batch_size, learning_rate, epoch)\n",
        "        torch.save(model.state_dict(), model_path)\n",
        "\n",
        "\n",
        "     # plotting\n",
        "    plt.title(\"Training Curve\")\n",
        "    plt.plot(iters, train_loss, label=\"Train\")\n",
        "    plt.plot(iters, val_loss, label=\"Validation\")\n",
        "    plt.xlabel(\"Iterations\")\n",
        "    plt.ylabel(\"Loss\")\n",
        "    plt.show()\n",
        "\n",
        "    plt.title(\"Training Curve\")\n",
        "    plt.plot(iters, train_acc, label=\"Train\")\n",
        "    plt.plot(iters, val_acc, label=\"Validation\")\n",
        "    plt.xlabel(\"Iterations\")\n",
        "    plt.ylabel(\"Training Accuracy\")\n",
        "    plt.legend(loc='best')\n",
        "    plt.show()\n",
        "\n",
        "    print(\"Final Training Accuracy: {}\".format(train_acc[-1]))\n",
        "    print(\"Final Validation Accuracy: {}\".format(val_acc[-1]))\n",
        "\n",
        "  \n"
      ]
    },
    {
      "cell_type": "markdown",
      "metadata": {
        "id": "WKk01pwx1pq_"
      },
      "source": [
        "### Part (b) [3 pt]\n",
        "\n",
        "While plotting training and validation loss is valuable, loss values are harder to compare\n",
        "than accuracy percentages. It would be nice to have a measure of \"accuracy\" in this problem.\n",
        "\n",
        "Since we will only be imputing missing categorical values, we will define an accuracy measure.\n",
        "For each record and for each categorical feature, we determine whether\n",
        "the model can predict the categorical feature given all the other features of the record.\n",
        "\n",
        "A function `get_accuracy` is written for you. It is up to you to figure out how to\n",
        "use the function. **You don't need to submit anything in this part.**\n",
        "To earn the marks, correctly plot the training and validation accuracy every few \n",
        "iterations as part of your training curve."
      ]
    },
    {
      "cell_type": "code",
      "execution_count": null,
      "metadata": {
        "collapsed": true,
        "id": "bHWLfCzM1pq_"
      },
      "outputs": [],
      "source": [
        "def get_accuracy(model, data_loader):\n",
        "    \"\"\"Return the \"accuracy\" of the autoencoder model across a data set.\n",
        "    That is, for each record and for each categorical feature, \n",
        "    we determine whether the model can successfully predict the value\n",
        "    of the categorical feature given all the other features of the \n",
        "    record. The returned \"accuracy\" measure is the percentage of times \n",
        "    that our model is successful.\n",
        "        \n",
        "    Args:\n",
        "       - model: the autoencoder model, an instance of nn.Module\n",
        "       - data_loader: an instance of torch.utils.data.DataLoader\n",
        "\n",
        "    Example (to illustrate how get_accuracy is intended to be called.\n",
        "             Depending on your variable naming this code might require\n",
        "             modification.)\n",
        "\n",
        "        >>> model = AutoEncoder()\n",
        "        >>> vdl = torch.utils.data.DataLoader(data_valid, batch_size=256, shuffle=True)\n",
        "        >>> get_accuracy(model, vdl)\n",
        "    \"\"\"\n",
        "    total = 0\n",
        "    acc = 0\n",
        "    for col in catcols:\n",
        "        for item in data_loader: # minibatches\n",
        "            inp = item.detach().numpy()\n",
        "            out = model(zero_out_feature(item.clone(), col)).detach().numpy()\n",
        "            for i in range(out.shape[0]): # record in minibatch\n",
        "                acc += int(get_feature(out[i], col) == get_feature(inp[i], col))\n",
        "                total += 1\n",
        "    return acc / total"
      ]
    },
    {
      "cell_type": "markdown",
      "metadata": {
        "id": "SxCTlXoV1prB"
      },
      "source": [
        "### Part (c) [4 pt]\n",
        "\n",
        "Run your updated training code, using reasonable initial hyperparameters.\n",
        "\n",
        "Include your training curve in your submission."
      ]
    },
    {
      "cell_type": "code",
      "execution_count": null,
      "metadata": {
        "colab": {
          "base_uri": "https://localhost:8080/",
          "height": 955
        },
        "id": "bEK17pUCq2lZ",
        "outputId": "dfa3d8fc-c51a-4829-8975-26d438fcdfd9"
      },
      "outputs": [
        {
          "name": "stdout",
          "output_type": "stream",
          "text": [
            "epoch number  1 accuracy:  0.6025253464793973\n",
            "Loss:  0.0005876771174371243 epoch number  0\n",
            "epoch number  2 accuracy:  0.610400582891514\n",
            "Loss:  0.0005876771174371243 epoch number  1\n",
            "epoch number  3 accuracy:  0.6164387808885995\n",
            "Loss:  0.0004316657723393291 epoch number  2\n",
            "epoch number  4 accuracy:  0.6179735218429293\n",
            "Loss:  0.00042832730105146766 epoch number  3\n",
            "epoch number  5 accuracy:  0.6244070319040089\n",
            "Loss:  0.00028911768458783627 epoch number  4\n",
            "epoch number  6 accuracy:  0.6051917651071218\n",
            "Loss:  0.00034721504198387265 epoch number  5\n",
            "epoch number  7 accuracy:  0.6248798561374136\n",
            "Loss:  0.00022243097191676497 epoch number  6\n",
            "epoch number  8 accuracy:  0.6281973769881871\n",
            "Loss:  0.00027417545788921416 epoch number  7\n",
            "epoch number  9 accuracy:  0.6275152698973739\n",
            "Loss:  0.00024891638895496726 epoch number  8\n",
            "epoch number  10 accuracy:  0.6212677890428797\n",
            "Loss:  0.00029304795316420496 epoch number  9\n"
          ]
        },
        {
          "data": {
            "image/png": "[encoded data removed]",
            "text/plain": [
              "<Figure size 432x288 with 1 Axes>"
            ]
          },
          "metadata": {},
          "output_type": "display_data"
        },
        {
          "data": {
            "image/png": "[encoded data removed]",
            "text/plain": [
              "<Figure size 432x288 with 1 Axes>"
            ]
          },
          "metadata": {},
          "output_type": "display_data"
        },
        {
          "name": "stdout",
          "output_type": "stream",
          "text": [
            "Final Training Accuracy: 0.6212677890428797\n",
            "Final Validation Accuracy: 0.6161024305555556\n"
          ]
        }
      ],
      "source": [
        "model = AutoEncoder()\n",
        "train(model, train_data, valid_data, 64, 10, learning_rate=0.01)"
      ]
    },
    {
      "cell_type": "markdown",
      "metadata": {
        "id": "h9xTwIf51prF"
      },
      "source": [
        "### Part (d) [5 pt]\n",
        "\n",
        "Tune your hyperparameters, training at least 4 different models (4 sets of hyperparameters).\n",
        "\n",
        "Do not include all your training curves. Instead, explain what hyperparameters\n",
        "you tried, what their effect was, and what your thought process was as you \n",
        "chose the next set of hyperparameters to try."
      ]
    },
    {
      "cell_type": "markdown",
      "source": [
        "model_1:batch_size = 32, lr = 0.01, epochs = 20\n",
        "\n",
        "Reasoning for model_1 hyperparameters: Looking at  model's accuracy of 62%, I decided to increase the number of epochs and decrease the batch size to check whether that will provide us with a better accuracy or not. Depending on what accuracy is obtained in this case, we will decide whether decreasing batch size was a good choice or not.\n",
        "\n",
        "model_2:batch_size = 64, lr = 0.007, epochs = 20\n",
        "\n",
        "Reasoning for model_2 hyperparameters: model_1 gave an accuracy of 60%, hence this means that decreasing the batch size was not a good idea, which is why I kept the batch size = 64 in this case (same as model), and experimented with the learning rate by decreasing it further since decreasing learning rate can prove to be beneficial at times. Having greater epochs is beneficial since it gives a good idea of what is going on compared to having smaller number of epochs. (from here I kept the learning rate and the number of epochs the same since they give better results)\n",
        "\n",
        "model_3:batch_size = 128, lr = 0.007, epochs = 20\n",
        "\n",
        "Reasoning for model_3 hyperparameters: model_2 gave an accuracy of 64% which is better than all the model's so far. Keeping the lr and epochs same, I decided to increase the batch size to a relatively larger number (128) to check if that will improve the accuracy. \n",
        "\n",
        "model_4:batch_size = 75, lr = 0.007, epochs = 20\n",
        "\n",
        "Reasoning for model_4 hyperparameters: The accuracy of model_3 decreased to 63% which meant that 128 as a batch size was too large hence I changed batch_size to a value greater than 64 and comparitvely less than 128 choosing a safe value of 75.\n",
        "\n",
        "model_5:batch_size = 85, lr = 0.007, epochs = 20\n",
        "\n",
        "Reasoning for model_5 hyperparameters: model_4 gave the best accuracy uptill now by choosing batch size of 75, hence I wanted to see if I end up increasing batch size a bit more, if it would give me a comparitively better result. However, it was observed that increasing batch size to 85 reduced the accuarcy than when it was 75.\n",
        "\n",
        "Hence, model_4 is the best model, as it gives a final accuracy of 65% greater than all the other models.\n"
      ],
      "metadata": {
        "id": "GLpBayvxrCoh"
      }
    },
    {
      "cell_type": "code",
      "execution_count": null,
      "metadata": {
        "collapsed": true,
        "id": "PhTKt9iL1prG"
      },
      "outputs": [],
      "source": [
        "def train_nocurves(model, train_data, valid_data, batch_size=64, num_epochs=5, learning_rate=1e-4):\n",
        "    \"\"\" Training loop. You should update this.\"\"\"\n",
        "    torch.manual_seed(42)\n",
        "    train_loader = torch.utils.data.DataLoader(train_data, batch_size=batch_size, shuffle=True)\n",
        "    valid_loader = torch.utils.data.DataLoader(valid_data, batch_size=batch_size, shuffle=True)\n",
        "    criterion = nn.MSELoss()\n",
        "    optimizer = torch.optim.Adam(model.parameters(), lr=learning_rate)\n",
        "    iters, losses, train_acc, val_acc = [], [], [], []\n",
        "\n",
        "    epoch = 0\n",
        "    for epoch in range(num_epochs):\n",
        "        for data in train_loader:\n",
        "            datam = zero_out_random_feature(data.clone()) # zero out one categorical feature\n",
        "            recon = model(datam)\n",
        "            loss = criterion(recon, data)\n",
        "            loss.backward()\n",
        "            optimizer.step()\n",
        "            optimizer.zero_grad()\n",
        "        iters.append(epoch)\n",
        "        losses.append(float(loss)/batch_size)             # compute *average* loss\n",
        "        train_acc.append(get_accuracy(model, train_loader)) # compute training accuracy\n",
        "        print(\"epoch number \", epoch+1, \"accuracy: \",train_acc[epoch])\n",
        "        print(\"Loss: \", losses[epoch-1], \"epoch number \", epoch)\n",
        "        model_path = \"model_{0}_bs{1}_lr{2}_epoch{3}\".format(model.name, batch_size, learning_rate, epoch)\n",
        "        torch.save(model.state_dict(), model_path)\n",
        "\n",
        "    print(\"Final Training Accuracy: {}\".format(train_acc[-1]))"
      ]
    },
    {
      "cell_type": "code",
      "execution_count": null,
      "metadata": {
        "colab": {
          "base_uri": "https://localhost:8080/"
        },
        "id": "7suL_B-SIyFo",
        "outputId": "a80e10ab-5c55-444d-970b-547e59bb1949"
      },
      "outputs": [
        {
          "name": "stdout",
          "output_type": "stream",
          "text": [
            "epoch number  1 accuracy:  0.5973940408644157\n",
            "Loss:  0.0010862095514312387 epoch number  0\n",
            "epoch number  2 accuracy:  0.5963011192757263\n",
            "Loss:  0.0010862095514312387 epoch number  1\n",
            "epoch number  3 accuracy:  0.6078581837348463\n",
            "Loss:  0.0007624005666002631 epoch number  2\n",
            "epoch number  4 accuracy:  0.6018354881716429\n",
            "Loss:  0.0008823206298984587 epoch number  3\n",
            "epoch number  5 accuracy:  0.6153691129507333\n",
            "Loss:  0.0005912362248636782 epoch number  4\n",
            "epoch number  6 accuracy:  0.6186788825845658\n",
            "Loss:  0.00046693041804246604 epoch number  5\n",
            "epoch number  7 accuracy:  0.6045174092332496\n",
            "Loss:  0.0006963965715840459 epoch number  6\n",
            "epoch number  8 accuracy:  0.619624531051375\n",
            "Loss:  0.0004341297026257962 epoch number  7\n",
            "epoch number  9 accuracy:  0.608067466592255\n",
            "Loss:  0.0007488076225854456 epoch number  8\n",
            "epoch number  10 accuracy:  0.6230118128546182\n",
            "Loss:  0.0005210385425016284 epoch number  9\n",
            "epoch number  11 accuracy:  0.6205469258673612\n",
            "Loss:  0.0004241600981913507 epoch number  10\n",
            "epoch number  12 accuracy:  0.6276702942361951\n",
            "Loss:  0.0006588620017282665 epoch number  11\n",
            "epoch number  13 accuracy:  0.6164000248038942\n",
            "Loss:  0.00032555812504142523 epoch number  12\n",
            "epoch number  14 accuracy:  0.6254301925402288\n",
            "Loss:  0.0003793690702877939 epoch number  13\n",
            "epoch number  15 accuracy:  0.6239264564536632\n",
            "Loss:  0.0006302592228166759 epoch number  14\n",
            "epoch number  16 accuracy:  0.6316776733947229\n",
            "Loss:  0.0006069985684007406 epoch number  15\n",
            "epoch number  17 accuracy:  0.6095246953771742\n",
            "Loss:  0.0002856231585610658 epoch number  16\n",
            "epoch number  18 accuracy:  0.6195470188819645\n",
            "Loss:  0.00033963521127589047 epoch number  17\n",
            "epoch number  19 accuracy:  0.6271897187858494\n",
            "Loss:  0.0006445756298489869 epoch number  18\n",
            "epoch number  20 accuracy:  0.6074861253216755\n",
            "Loss:  0.0006283008842729032 epoch number  19\n",
            "Final Training Accuracy: 0.6074861253216755\n"
          ]
        }
      ],
      "source": [
        "model_1 = AutoEncoder()\n",
        "train_nocurves(model_1, train_data, valid_data, 32, 20, learning_rate=0.01)"
      ]
    },
    {
      "cell_type": "code",
      "execution_count": null,
      "metadata": {
        "colab": {
          "base_uri": "https://localhost:8080/"
        },
        "id": "tzx56RU8znCk",
        "outputId": "dd694689-b1c0-47e0-d23a-f2bc5590f0f8"
      },
      "outputs": [
        {
          "name": "stdout",
          "output_type": "stream",
          "text": [
            "epoch number  1 accuracy:  0.6073698570675596\n",
            "Loss:  0.0006000780267640948 epoch number  0\n",
            "epoch number  2 accuracy:  0.6108036461724491\n",
            "Loss:  0.0006000780267640948 epoch number  1\n",
            "epoch number  3 accuracy:  0.6086100517781292\n",
            "Loss:  0.0004552719765342772 epoch number  2\n",
            "epoch number  4 accuracy:  0.6160512200415466\n",
            "Loss:  0.00040524243377149105 epoch number  3\n",
            "epoch number  5 accuracy:  0.6190354385638546\n",
            "Loss:  0.00032958132214844227 epoch number  4\n",
            "epoch number  6 accuracy:  0.6169348587728274\n",
            "Loss:  0.0003268839209340513 epoch number  5\n",
            "epoch number  7 accuracy:  0.6258720119058693\n",
            "Loss:  0.00033357544452883303 epoch number  6\n",
            "epoch number  8 accuracy:  0.6335302142436362\n",
            "Loss:  0.0003387813630979508 epoch number  7\n",
            "epoch number  9 accuracy:  0.6299414007999256\n",
            "Loss:  0.00022901986085344106 epoch number  8\n",
            "epoch number  10 accuracy:  0.631158341859672\n",
            "Loss:  0.00029471542802639306 epoch number  9\n",
            "epoch number  11 accuracy:  0.6292825473599355\n",
            "Loss:  0.00023291161051020026 epoch number  10\n",
            "epoch number  12 accuracy:  0.6369097448299383\n",
            "Loss:  0.0002819517394527793 epoch number  11\n",
            "epoch number  13 accuracy:  0.636615198586178\n",
            "Loss:  0.0003059724986087531 epoch number  12\n",
            "epoch number  14 accuracy:  0.6394056366849595\n",
            "Loss:  0.00022193777840584517 epoch number  13\n",
            "epoch number  15 accuracy:  0.6356075403838403\n",
            "Loss:  0.00034686317667365074 epoch number  14\n",
            "epoch number  16 accuracy:  0.6382119492760363\n",
            "Loss:  0.00025225867284461856 epoch number  15\n",
            "epoch number  17 accuracy:  0.6369252472638204\n",
            "Loss:  0.0002914592914748937 epoch number  16\n",
            "epoch number  18 accuracy:  0.6460096735187424\n",
            "Loss:  0.00030842432170175016 epoch number  17\n",
            "epoch number  19 accuracy:  0.6332666728676403\n",
            "Loss:  0.00016599291120655835 epoch number  18\n",
            "epoch number  20 accuracy:  0.6444826837813536\n",
            "Loss:  0.00030319782672449946 epoch number  19\n",
            "Final Training Accuracy: 0.6444826837813536\n"
          ]
        }
      ],
      "source": [
        "model_2 = AutoEncoder()\n",
        "train_nocurves(model_2, train_data, valid_data, 64, 20, learning_rate=0.007)"
      ]
    },
    {
      "cell_type": "code",
      "source": [
        "model_3 = AutoEncoder()\n",
        "train_nocurves(model_3, train_data, valid_data, 128, 20, learning_rate=0.007)"
      ],
      "metadata": {
        "colab": {
          "base_uri": "https://localhost:8080/"
        },
        "id": "6HDwKz0bUjrk",
        "outputId": "1b5c9774-a963-4f0d-cddb-bd2318115e69"
      },
      "execution_count": null,
      "outputs": [
        {
          "output_type": "stream",
          "name": "stdout",
          "text": [
            "epoch number  1 accuracy:  0.5871469320683347\n",
            "Loss:  0.0003579446056392044 epoch number  0\n",
            "epoch number  2 accuracy:  0.6124003968623074\n",
            "Loss:  0.0003579446056392044 epoch number  1\n",
            "epoch number  3 accuracy:  0.603145443834682\n",
            "Loss:  0.0003055966517422348 epoch number  2\n",
            "epoch number  4 accuracy:  0.6190431897807955\n",
            "Loss:  0.00020237790886312723 epoch number  3\n",
            "epoch number  5 accuracy:  0.6189734288283261\n",
            "Loss:  0.00020357301400508732 epoch number  4\n",
            "epoch number  6 accuracy:  0.623376120050848\n",
            "Loss:  0.0001617835514480248 epoch number  5\n",
            "epoch number  7 accuracy:  0.6199810870306638\n",
            "Loss:  0.0001487977133365348 epoch number  6\n",
            "epoch number  8 accuracy:  0.6241202368771898\n",
            "Loss:  0.00019629718735814095 epoch number  7\n",
            "epoch number  9 accuracy:  0.6251278950795275\n",
            "Loss:  0.00016121004591695964 epoch number  8\n",
            "epoch number  10 accuracy:  0.6169193563389452\n",
            "Loss:  0.00017048658628482372 epoch number  9\n",
            "epoch number  11 accuracy:  0.6229032958174433\n",
            "Loss:  0.00010983839456457645 epoch number  10\n",
            "epoch number  12 accuracy:  0.6329953802747031\n",
            "Loss:  0.0001729951472952962 epoch number  11\n",
            "epoch number  13 accuracy:  0.6241357393110718\n",
            "Loss:  0.00010256825044052675 epoch number  12\n",
            "epoch number  14 accuracy:  0.6367934765758224\n",
            "Loss:  0.00010296783148078248 epoch number  13\n",
            "epoch number  15 accuracy:  0.631685424611664\n",
            "Loss:  0.00014691799879074097 epoch number  14\n",
            "epoch number  16 accuracy:  0.6342820822869191\n",
            "Loss:  0.0001278599665965885 epoch number  15\n",
            "epoch number  17 accuracy:  0.6328015998511767\n",
            "Loss:  7.757782441331074e-05 epoch number  16\n",
            "epoch number  18 accuracy:  0.63765386165628\n",
            "Loss:  0.00010016472515417263 epoch number  17\n",
            "epoch number  19 accuracy:  0.621306545127585\n",
            "Loss:  8.534648804925382e-05 epoch number  18\n",
            "epoch number  20 accuracy:  0.6305459957213283\n",
            "Loss:  0.0001228274340974167 epoch number  19\n",
            "Final Training Accuracy: 0.6305459957213283\n"
          ]
        }
      ]
    },
    {
      "cell_type": "code",
      "execution_count": null,
      "metadata": {
        "colab": {
          "background_save": true,
          "base_uri": "https://localhost:8080/"
        },
        "id": "LReMu50Jz5yQ",
        "outputId": "d60807b9-3a23-4a2b-bf77-2b40091084e6"
      },
      "outputs": [
        {
          "name": "stdout",
          "output_type": "stream",
          "text": [
            "epoch number  1 accuracy:  0.5929138374724832\n",
            "Loss:  0.0005288382371266682 epoch number  0\n",
            "epoch number  2 accuracy:  0.6171673952810591\n",
            "Loss:  0.0005288382371266682 epoch number  1\n",
            "epoch number  3 accuracy:  0.6277710600564289\n",
            "Loss:  0.0003880707422892253 epoch number  2\n",
            "epoch number  4 accuracy:  0.6098114904039934\n",
            "Loss:  0.0003295959532260895 epoch number  3\n",
            "epoch number  5 accuracy:  0.6202368771897188\n",
            "Loss:  0.0003337852656841278 epoch number  4\n",
            "epoch number  6 accuracy:  0.6246860757138871\n",
            "Loss:  0.00029587805271148683 epoch number  5\n",
            "epoch number  7 accuracy:  0.6214848231172294\n",
            "Loss:  0.0002756443868080775 epoch number  6\n",
            "epoch number  8 accuracy:  0.6374678324496946\n",
            "Loss:  0.0003094589213530223 epoch number  7\n",
            "epoch number  9 accuracy:  0.6401032462096549\n",
            "Loss:  0.0001945130651195844 epoch number  8\n",
            "epoch number  10 accuracy:  0.6480559947911823\n",
            "Loss:  0.0003167471786340078 epoch number  9\n",
            "epoch number  11 accuracy:  0.648947384739404\n",
            "Loss:  0.0001504583160082499 epoch number  10\n",
            "epoch number  12 accuracy:  0.651536291197718\n",
            "Loss:  0.0002271144837141037 epoch number  11\n",
            "epoch number  13 accuracy:  0.6516060521501876\n",
            "Loss:  0.00020870961248874663 epoch number  12\n",
            "epoch number  14 accuracy:  0.6588379375561964\n",
            "Loss:  0.00022365344067414603 epoch number  13\n",
            "epoch number  15 accuracy:  0.6505208817784393\n",
            "Loss:  0.0002335521082083384 epoch number  14\n",
            "epoch number  16 accuracy:  0.6612020587232196\n",
            "Loss:  0.00029381016890207926 epoch number  15\n",
            "epoch number  17 accuracy:  0.6620004340681487\n",
            "Loss:  0.00022073095043500265 epoch number  16\n",
            "epoch number  18 accuracy:  0.6689842805320435\n",
            "Loss:  0.00025869856278101604 epoch number  17\n",
            "epoch number  19 accuracy:  0.6576830062319784\n",
            "Loss:  0.0002686747411886851 epoch number  18\n",
            "epoch number  20 accuracy:  0.6569233869717546\n",
            "Loss:  0.00017036153624455134 epoch number  19\n",
            "Final Training Accuracy: 0.6569233869717546\n"
          ]
        }
      ],
      "source": [
        "model_4 = AutoEncoder()\n",
        "train_nocurves(model_4, train_data, valid_data, 75, 20, learning_rate=0.007)"
      ]
    },
    {
      "cell_type": "code",
      "source": [
        "model_5 = AutoEncoder()\n",
        "train_nocurves(model_5, train_data, valid_data, 85, 20, learning_rate=0.007)"
      ],
      "metadata": {
        "colab": {
          "base_uri": "https://localhost:8080/"
        },
        "id": "kDiTBVmfUHCl",
        "outputId": "4f76d498-fd47-468f-889c-b44eea8350d7"
      },
      "execution_count": null,
      "outputs": [
        {
          "output_type": "stream",
          "name": "stdout",
          "text": [
            "epoch number  1 accuracy:  0.5975800700710011\n",
            "Loss:  0.0004911602858234855 epoch number  0\n",
            "epoch number  2 accuracy:  0.6136870988745233\n",
            "Loss:  0.0004911602858234855 epoch number  1\n",
            "epoch number  3 accuracy:  0.6189889312622082\n",
            "Loss:  0.0004151162855765399 epoch number  2\n",
            "epoch number  4 accuracy:  0.6157101664961399\n",
            "Loss:  0.0002443101037951077 epoch number  3\n",
            "epoch number  5 accuracy:  0.6228490372988559\n",
            "Loss:  0.0002405882319983314 epoch number  4\n",
            "epoch number  6 accuracy:  0.6333286826031687\n",
            "Loss:  0.0002500356558491202 epoch number  5\n",
            "epoch number  7 accuracy:  0.6286236939199454\n",
            "Loss:  0.00020980070180752697 epoch number  6\n",
            "epoch number  8 accuracy:  0.630894800483676\n",
            "Loss:  0.0001708987881155575 epoch number  7\n",
            "epoch number  9 accuracy:  0.631034322388615\n",
            "Loss:  0.00016393807223614524 epoch number  8\n",
            "epoch number  10 accuracy:  0.6396691780609556\n",
            "Loss:  0.0002809995675788206 epoch number  9\n",
            "epoch number  11 accuracy:  0.639343626949431\n",
            "Loss:  0.00022586150204434116 epoch number  10\n",
            "epoch number  12 accuracy:  0.6484358044212941\n",
            "Loss:  0.00016760993748903273 epoch number  11\n",
            "epoch number  13 accuracy:  0.6456996248411001\n",
            "Loss:  0.00019809064619681415 epoch number  12\n",
            "epoch number  14 accuracy:  0.6546135243233188\n",
            "Loss:  0.00012100354275282691 epoch number  13\n",
            "epoch number  15 accuracy:  0.6541639537407373\n",
            "Loss:  0.00022031568429049323 epoch number  14\n",
            "epoch number  16 accuracy:  0.6564040554367035\n",
            "Loss:  0.00013981121866142048 epoch number  15\n",
            "epoch number  17 accuracy:  0.6585821473971414\n",
            "Loss:  8.874648414990481e-05 epoch number  16\n",
            "epoch number  18 accuracy:  0.6637444578798871\n",
            "Loss:  0.00020512977943700902 epoch number  17\n",
            "epoch number  19 accuracy:  0.6622717266610858\n",
            "Loss:  0.00022346002652364619 epoch number  18\n",
            "epoch number  20 accuracy:  0.6463352246302669\n",
            "Loss:  0.00011472085162120707 epoch number  19\n",
            "Final Training Accuracy: 0.6463352246302669\n"
          ]
        }
      ]
    },
    {
      "cell_type": "markdown",
      "metadata": {
        "id": "ymCsZH291prI"
      },
      "source": [
        "## Part 4. Testing [12 pt]\n",
        "\n",
        "### Part (a) [2 pt]\n",
        "\n",
        "Compute and report the test accuracy."
      ]
    },
    {
      "cell_type": "code",
      "execution_count": null,
      "metadata": {
        "collapsed": true,
        "id": "0OkSbup91prJ"
      },
      "outputs": [],
      "source": [
        "def get_model_name(name, batch_size, learning_rate, epoch):\n",
        "    \"\"\" Generate a name for the model consisting of all the hyperparameter values\n",
        "\n",
        "    Args:\n",
        "        config: Configuration object containing the hyperparameters\n",
        "    Returns:\n",
        "        path: A string with the hyperparameter name and value concatenated\n",
        "    \"\"\"\n",
        "   \n",
        "    path = \"model_{0}_bs{1}_lr{2}_epoch{3}\".format(model.name, batch_size, learning_rate, epoch)\n",
        "    return path"
      ]
    },
    {
      "cell_type": "code",
      "execution_count": null,
      "metadata": {
        "id": "5kBPqg3p0mzm"
      },
      "outputs": [],
      "source": [
        "batch_size=32"
      ]
    },
    {
      "cell_type": "code",
      "execution_count": null,
      "metadata": {
        "id": "fNom_k350Mki"
      },
      "outputs": [],
      "source": [
        "test_DL = DataLoader(test_data, batch_size*2, num_workers = 2, pin_memory = True)"
      ]
    },
    {
      "cell_type": "code",
      "execution_count": null,
      "metadata": {
        "id": "o1F5lVbh0r-q",
        "colab": {
          "base_uri": "https://localhost:8080/"
        },
        "outputId": "28172b8f-6667-4d4f-dac3-69281abb3830"
      },
      "outputs": [
        {
          "output_type": "execute_result",
          "data": {
            "text/plain": [
              "<All keys matched successfully>"
            ]
          },
          "metadata": {},
          "execution_count": 122
        }
      ],
      "source": [
        "model_path = get_model_name(model_4.name, batch_size=75, learning_rate=0.007, epoch=19)\n",
        "state = torch.load(model_path)\n",
        "model_4.load_state_dict(state)"
      ]
    },
    {
      "cell_type": "code",
      "execution_count": null,
      "metadata": {
        "id": "JaaYNOC404GV",
        "colab": {
          "base_uri": "https://localhost:8080/"
        },
        "outputId": "de92dcec-2342-4aa3-d13a-cf1901402ef0"
      },
      "outputs": [
        {
          "output_type": "stream",
          "name": "stdout",
          "text": [
            "test accuracy: 0.6511140046296297\n"
          ]
        }
      ],
      "source": [
        "test_accuracy = get_accuracy(model_4, test_DL)\n",
        "print(\"test accuracy:\", test_accuracy)"
      ]
    },
    {
      "cell_type": "markdown",
      "metadata": {
        "id": "UEe9yt6L1prM"
      },
      "source": [
        "### Part (b) [4 pt]\n",
        "\n",
        "Based on the test accuracy alone, it is difficult to assess whether our model\n",
        "is actually performing well. We don't know whether a high accuracy is due to\n",
        "the simplicity of the problem, or if a poor accuracy is a result of the inherent\n",
        "difficulty of the problem.\n",
        "\n",
        "It is therefore very important to be able to compare our model to at least one\n",
        "alternative. In particular, we consider a simple **baseline**\n",
        "model that is not very computationally expensive. Our neural network\n",
        "should at least outperform this baseline model. If our network is not much\n",
        "better than the baseline, then it is not doing well.\n",
        "\n",
        "For our data imputation problem, consider the following baseline model:\n",
        "to predict a missing feature, the baseline model will look at the **most common value** of the feature in the training set. \n",
        "\n",
        "For example, if the feature \"marriage\" is missing, then this model's prediction will be the most common value for \"marriage\" in the training set, which happens to be \"Married-civ-spouse\".\n",
        "\n",
        "What would be the test accuracy of this baseline model?\n"
      ]
    },
    {
      "cell_type": "code",
      "execution_count": null,
      "metadata": {
        "id": "p45VHp011prN",
        "colab": {
          "base_uri": "https://localhost:8080/"
        },
        "outputId": "4282a23e-f011-49d7-a165-638454fa5faa"
      },
      "outputs": [
        {
          "output_type": "stream",
          "name": "stdout",
          "text": [
            "The accuracy for baseline model of missing 'marriage' test is: 46.67947131974738\n"
          ]
        }
      ],
      "source": [
        "common = {}\n",
        "for column in df_not_missing.columns:\n",
        "  # get the most common value for each column\n",
        "  common[column] = df_not_missing[column].value_counts().idxmax()\n",
        "\n",
        "accuracy = sum(df_not_missing['marriage'] == common['marriage'])/len(df_not_missing)\n",
        "print(\"The accuracy for baseline model of missing 'marriage' test is:\", accuracy*100)"
      ]
    },
    {
      "cell_type": "markdown",
      "metadata": {
        "id": "QlHu0wxh1prP"
      },
      "source": [
        "### Part (c) [1 pt]\n",
        "\n",
        "How does your test accuracy from part (a) compared to your basline test accuracy in part (b)?"
      ]
    },
    {
      "cell_type": "markdown",
      "source": [
        "The test accuracy obtained in part (a) as compared to part (b) is much better. The reason for this is that using an AutoEncoder as our model's architecture, it helps us extract the most important features of the data it sees and hence it learns more effectively therefore giving a better accuracy than the baseline model."
      ],
      "metadata": {
        "id": "_BmRcJHIz1s6"
      }
    },
    {
      "cell_type": "markdown",
      "metadata": {
        "id": "DfQPgu1Q1prS"
      },
      "source": [
        "### Part (d) [1 pt]\n",
        "\n",
        "Look at the first item in your test data. \n",
        "Do you think it is reasonable for a human\n",
        "to be able to guess this person's education level\n",
        "based on their other features? Explain."
      ]
    },
    {
      "cell_type": "code",
      "execution_count": null,
      "metadata": {
        "id": "3qbQ1vvT1prT",
        "colab": {
          "base_uri": "https://localhost:8080/"
        },
        "outputId": "ec059e39-a763-4c45-b7dc-a3b2ea1cdab4"
      },
      "outputs": [
        {
          "output_type": "execute_result",
          "data": {
            "text/plain": [
              "{'edu': 'Bachelors',\n",
              " 'marriage': 'Divorced',\n",
              " 'occupation': 'Prof-specialty',\n",
              " 'relationship': 'Not-in-family',\n",
              " 'sex': 'Male',\n",
              " 'work': 'Private'}"
            ]
          },
          "metadata": {},
          "execution_count": 33
        }
      ],
      "source": [
        "get_features(test_data[0])"
      ]
    },
    {
      "cell_type": "markdown",
      "source": [
        "Yes I believe that it is reasonable for a human to guess someone's education level given other related features such as occupation, as it is somewhat related to the person's education level. For example, if a person has an occupation as a Prof-speciality, then it is reasonable to assume that the person has atleast done his/her masters. However, the unrelated features for example if they are married and what is the relationship status, based on just those factors, we might not be able to guess the eductaion level."
      ],
      "metadata": {
        "id": "KudeC9OG4dyJ"
      }
    },
    {
      "cell_type": "markdown",
      "metadata": {
        "id": "p_d5uuAY1prZ"
      },
      "source": [
        "### Part (e) [2 pt]\n",
        "\n",
        "What is your model's prediction of this person's education\n",
        "level, given their other features?\n"
      ]
    },
    {
      "cell_type": "code",
      "execution_count": null,
      "metadata": {
        "collapsed": true,
        "id": "kBY5gKXR1pra",
        "colab": {
          "base_uri": "https://localhost:8080/"
        },
        "outputId": "dd5e2aca-a6b5-4821-b5f8-5c5ba8d892b3"
      },
      "outputs": [
        {
          "output_type": "stream",
          "name": "stdout",
          "text": [
            "Bachelors\n"
          ]
        }
      ],
      "source": [
        "var = zero_out_feature(torch.tensor(test_data[0]).view(1,57), \"edu\")\n",
        "output = model_4(var).detach().numpy()#numpy array + remove gradient\n",
        "print(get_feature(output[0],\"edu\")) #choosing education as we want to look at the education given other features"
      ]
    },
    {
      "cell_type": "markdown",
      "metadata": {
        "id": "fdLNA0ce1prd"
      },
      "source": [
        "### Part (f) [2 pt]\n",
        "\n",
        "What is the baseline model's prediction\n",
        "of this person's education level?"
      ]
    },
    {
      "cell_type": "code",
      "execution_count": null,
      "metadata": {
        "id": "TXgoM9qk1prd",
        "colab": {
          "base_uri": "https://localhost:8080/"
        },
        "outputId": "f8eb9950-3145-4b3b-d238-57293eaa8cdc"
      },
      "outputs": [
        {
          "output_type": "stream",
          "name": "stdout",
          "text": [
            " HS-grad\n"
          ]
        }
      ],
      "source": [
        "print(common['edu'])"
      ]
    }
  ],
  "metadata": {
    "accelerator": "GPU",
    "colab": {
      "collapsed_sections": [],
      "name": "Lab4 Data Imputation.ipynb",
      "provenance": [],
      "include_colab_link": true
    },
    "gpuClass": "standard",
    "kernelspec": {
      "display_name": "Python 3 (ipykernel)",
      "language": "python",
      "name": "python3"
    },
    "language_info": {
      "codemirror_mode": {
        "name": "ipython",
        "version": 3
      },
      "file_extension": ".py",
      "mimetype": "text/x-python",
      "name": "python",
      "nbconvert_exporter": "python",
      "pygments_lexer": "ipython3",
      "version": "3.9.4"
    }
  },
  "nbformat": 4,
  "nbformat_minor": 0
}