{
  "cells": [
    {
      "cell_type": "markdown",
      "metadata": {
        "id": "view-in-github",
        "colab_type": "text"
      },
      "source": [
        "<a href=\"https://colab.research.google.com/github/Anushkasethi/APS360_Labs/blob/main/Lab5_Spam_Detection.ipynb\" target=\"_parent\"><img src=\"https://colab.research.google.com/assets/colab-badge.svg\" alt=\"Open In Colab\"/></a>"
      ]
    },
    {
      "cell_type": "markdown",
      "metadata": {
        "id": "_bphECiUa9zw"
      },
      "source": [
        "# Lab 5: Spam Detection\n",
        "\n",
        "**Deadline**: Monday, July 18 at 5:00 PM\n",
        "\n",
        "**Late Penalty**: Any work that is submitted between 0 hour and 24 hours past the deadline will receive a 20% grade deduction. No other late work is accepted. Quercus submission time will be used, not your local computer time. You can submit your labs as many times as you want before the deadline, so please submit often and early.\n",
        "\n",
        "**TA**: Justin Beland <justin.beland@mail.utoronto.ca>\n",
        "\n",
        "In this assignment, we will build a recurrent neural network to classify a SMS text message\n",
        "as \"spam\" or \"not spam\". In the process, you will\n",
        "    \n",
        "1. Clean and process text data for machine learning.\n",
        "2. Understand and implement a character-level recurrent neural network.\n",
        "3. Use torchtext to build recurrent neural network models.\n",
        "4. Understand batching for a recurrent neural network, and use torchtext to implement RNN batching.\n",
        "\n",
        "### What to submit\n",
        "\n",
        "Submit a PDF file containing all your code, outputs, and write-up. You can produce a PDF of your Google Colab file by going to File > Print and then save as PDF. The Colab instructions have more information (.html files are also acceptable).\n",
        "\n",
        "Do not submit any other files produced by your code.\n",
        "\n",
        "Include a link to your colab file in your submission."
      ]
    },
    {
      "cell_type": "markdown",
      "metadata": {
        "id": "rWiUqJJTa9z6"
      },
      "source": [
        "## Colab Link\n",
        "\n",
        "Include a link to your Colab file here. If you would like the TA to look at your\n",
        "Colab file in case your solutions are cut off, **please make sure that your Colab\n",
        "file is publicly accessible at the time of submission**.\n",
        "\n",
        "Colab Link: https://colab.research.google.com/drive/1wqcyxiWEIQvVqad4kiIDxjS9gHTC7PrU?usp=sharing"
      ]
    },
    {
      "cell_type": "code",
      "execution_count": null,
      "metadata": {
        "collapsed": true,
        "id": "HgfNOUaPa9z8",
        "jupyter": {
          "outputs_hidden": true
        }
      },
      "outputs": [],
      "source": [
        "import torch\n",
        "import torch.nn as nn\n",
        "import torch.nn.functional as F\n",
        "import torch.optim as optim\n",
        "import numpy as np"
      ]
    },
    {
      "cell_type": "markdown",
      "metadata": {
        "id": "M0jLI9LBa90C"
      },
      "source": [
        "## Part 1. Data Cleaning [15 pt]\n",
        "\n",
        "We will be using the \"SMS Spam Collection Data Set\" available at http://archive.ics.uci.edu/ml/datasets/SMS+Spam+Collection\n",
        "\n",
        "There is a link to download the \"Data Folder\" at the very top of the webpage. Download the zip file, unzip it, and upload the file `SMSSpamCollection` to Colab.    "
      ]
    },
    {
      "cell_type": "markdown",
      "metadata": {
        "id": "sSuF7C_Ga90E"
      },
      "source": [
        "### Part (a) [2 pt]\n",
        "\n",
        "Open up the file in Python, and print out one example of a spam SMS, and one example of a non-spam SMS.\n",
        "\n",
        "What is the label value for a spam message, and what is the label value for a non-spam message?"
      ]
    },
    {
      "cell_type": "markdown",
      "source": [
        "To see what the msgs are like, I decided to print some of the sms's first:"
      ],
      "metadata": {
        "id": "Gz9g6xV0Xuzr"
      }
    },
    {
      "cell_type": "code",
      "execution_count": null,
      "metadata": {
        "colab": {
          "base_uri": "https://localhost:8080/"
        },
        "collapsed": true,
        "id": "I_IfXHeTa90F",
        "jupyter": {
          "outputs_hidden": true
        },
        "outputId": "b088d001-0fbb-4648-c826-e93046c2e750"
      },
      "outputs": [
        {
          "output_type": "stream",
          "name": "stdout",
          "text": [
            "ham\tGo until jurong point, crazy.. Available only in bugis n great world la e buffet... Cine there got amore wat...\n",
            "\n",
            "count:  1\n",
            "ham\tOk lar... Joking wif u oni...\n",
            "\n",
            "count:  2\n",
            "spam\tFree entry in 2 a wkly comp to win FA Cup final tkts 21st May 2005. Text FA to 87121 to receive entry question(std txt rate)T&C's apply 08452810075over18's\n",
            "\n",
            "count:  3\n",
            "ham\tU dun say so early hor... U c already then say...\n",
            "\n",
            "count:  4\n",
            "ham\tNah I don't think he goes to usf, he lives around here though\n",
            "\n",
            "count:  5\n"
          ]
        }
      ],
      "source": [
        "#checking label values:\n",
        "count =0\n",
        "for line in open('SMSSpamCollection'):\n",
        "    print(line)\n",
        "    count += 1\n",
        "    print(\"count: \", count)\n",
        "    if count==5  :\n",
        "     break"
      ]
    },
    {
      "cell_type": "markdown",
      "source": [
        "Seems like the label for spam is spam and the label for non-spam is ham."
      ],
      "metadata": {
        "id": "aYSd5WM5Ih8e"
      }
    },
    {
      "cell_type": "code",
      "source": [
        "count1 = 0\n",
        "count2 =0\n",
        "for line in open('SMSSpamCollection'):\n",
        " if line.split()[0] == \"ham\" and count1==0:\n",
        "   print(line)\n",
        "   count1 += 1\n",
        " elif line.split()[0] == \"spam\" and count2==0:\n",
        "   print(line)\n",
        "   count2 +=1\n",
        " elif count1==1 and count2==1:\n",
        "  break"
      ],
      "metadata": {
        "colab": {
          "base_uri": "https://localhost:8080/"
        },
        "id": "qC_-sSLgIhl-",
        "outputId": "68675b3c-f072-4f69-9032-f5bd7db2fade"
      },
      "execution_count": null,
      "outputs": [
        {
          "output_type": "stream",
          "name": "stdout",
          "text": [
            "ham\tGo until jurong point, crazy.. Available only in bugis n great world la e buffet... Cine there got amore wat...\n",
            "\n",
            "spam\tFree entry in 2 a wkly comp to win FA Cup final tkts 21st May 2005. Text FA to 87121 to receive entry question(std txt rate)T&C's apply 08452810075over18's\n",
            "\n"
          ]
        }
      ]
    },
    {
      "cell_type": "markdown",
      "metadata": {
        "id": "AukA6vMVa90d"
      },
      "source": [
        "### Part (b) [1 pt]\n",
        "\n",
        "How many spam messages are there in the data set?\n",
        "How many non-spam messages are there in the data set?\n"
      ]
    },
    {
      "cell_type": "code",
      "execution_count": null,
      "metadata": {
        "collapsed": true,
        "id": "LgsqyemVa90e",
        "jupyter": {
          "outputs_hidden": true
        }
      },
      "outputs": [],
      "source": [
        "spam = 0\n",
        "ham = 0\n",
        "for line in open('SMSSpamCollection'):\n",
        "  if line.split()[0] == 'ham':\n",
        "    ham += 1\n",
        "  elif line.split()[0] == 'spam':\n",
        "    spam+= 1"
      ]
    },
    {
      "cell_type": "code",
      "source": [
        "print(ham)"
      ],
      "metadata": {
        "colab": {
          "base_uri": "https://localhost:8080/"
        },
        "id": "pMz54zkGejWi",
        "outputId": "248c0013-55ae-4830-cb8e-4b0a9e1898f7"
      },
      "execution_count": null,
      "outputs": [
        {
          "output_type": "stream",
          "name": "stdout",
          "text": [
            "4827\n"
          ]
        }
      ]
    },
    {
      "cell_type": "code",
      "source": [
        "print(spam)"
      ],
      "metadata": {
        "colab": {
          "base_uri": "https://localhost:8080/"
        },
        "id": "_C8tXiifel0x",
        "outputId": "ab6a57d1-a2f5-42ab-c8a2-896d1fd124f2"
      },
      "execution_count": null,
      "outputs": [
        {
          "output_type": "stream",
          "name": "stdout",
          "text": [
            "747\n"
          ]
        }
      ]
    },
    {
      "cell_type": "markdown",
      "metadata": {
        "id": "d1WXxVt6a90h"
      },
      "source": [
        "### Part (c) [4 pt]\n",
        "\n",
        "We will be using the package `torchtext` to load, process, and batch the data.\n",
        "A tutorial to torchtext is available below. This tutorial uses the same\n",
        "Sentiment140 data set that we explored during lecture.\n",
        "\n",
        "https://medium.com/@sonicboom8/sentiment-analysis-torchtext-55fb57b1fab8\n",
        "\n",
        "Unlike what we did during lecture, we will be building a **character level RNN**.\n",
        "That is, we will treat each **character** as a token in our sequence,\n",
        "rather than each **word**.\n",
        "\n",
        "Identify two advantage and two disadvantage of modelling SMS text\n",
        "messages as a sequence of characters rather than a sequence of words."
      ]
    },
    {
      "cell_type": "markdown",
      "source": [
        "**Advantages:**\n",
        "1. Mispelled words: If words are mispelled then it is known as a special (unknown) token. Hence the model is not flexible, however if we are dealing with a sequence of characters, it aids the model in ignoring the spelling mistakes within the dataset. \n",
        "2. Memory: We only have 26 letters in total in the alphabet, and if we end up including all the punctuation marks, almost less than 100 english characters are calculated. However, if we need up looking at the number of words, they would go upto thousands which means larger embeddings and more memory.\n",
        "\n"
      ],
      "metadata": {
        "id": "4cfvBARMvxHU"
      }
    },
    {
      "cell_type": "markdown",
      "source": [
        "**Disadvantages:**\n",
        "\n",
        "1. Harder to train: It is harder to train a sequence of characters than a sequence of words. Backpropagation becomes difficult with such a larger sequence of characters.\n",
        "\n",
        "2. Context: It is hard for characters to know the context of words hence it may lead to a generation of unusual words. This would not prove to be a good model."
      ],
      "metadata": {
        "id": "rhyqZW5yd5QR"
      }
    },
    {
      "cell_type": "markdown",
      "metadata": {
        "id": "ie_D0bv9a90k"
      },
      "source": [
        "### Part (d) [1 pt]\n",
        "\n",
        "We will be loading our data set using `torchtext.data.TabularDataset`. The\n",
        "constructor will read directly from the `SMSSpamCollection` file. \n",
        "\n",
        "For the data file to be read successfuly, we\n",
        "need to specify the **fields** (columns) in the file. \n",
        "In our case, the dataset has two fields: \n",
        "\n",
        "- a text field containing the sms messages,\n",
        "- a label field which will be converted into a binary label.\n",
        "\n",
        "Split the dataset into `train`, `valid`, and `test`. Use a 60-20-20 split.\n",
        "You may find this torchtext API page helpful:\n",
        "https://torchtext.readthedocs.io/en/latest/data.html#dataset\n",
        "\n",
        "Hint: There is a `Dataset` method that can perform the random split for you."
      ]
    },
    {
      "cell_type": "code",
      "execution_count": null,
      "metadata": {
        "id": "P_Y6Puz9a90l",
        "tags": [],
        "colab": {
          "base_uri": "https://localhost:8080/"
        },
        "outputId": "02c48a94-c6b5-4fd5-9bc3-62dec1cec3ff"
      },
      "outputs": [
        {
          "output_type": "stream",
          "name": "stdout",
          "text": [
            "Looking in indexes: https://pypi.org/simple, https://us-python.pkg.dev/colab-wheels/public/simple/\n",
            "Requirement already satisfied: torchtext==0.9 in /usr/local/lib/python3.7/dist-packages (0.9.0)\n",
            "Requirement already satisfied: numpy in /usr/local/lib/python3.7/dist-packages (from torchtext==0.9) (1.21.6)\n",
            "Requirement already satisfied: tqdm in /usr/local/lib/python3.7/dist-packages (from torchtext==0.9) (4.64.0)\n",
            "Requirement already satisfied: requests in /usr/local/lib/python3.7/dist-packages (from torchtext==0.9) (2.23.0)\n",
            "Requirement already satisfied: torch==1.8.0 in /usr/local/lib/python3.7/dist-packages (from torchtext==0.9) (1.8.0)\n",
            "Requirement already satisfied: typing-extensions in /usr/local/lib/python3.7/dist-packages (from torch==1.8.0->torchtext==0.9) (4.1.1)\n",
            "Requirement already satisfied: urllib3!=1.25.0,!=1.25.1,<1.26,>=1.21.1 in /usr/local/lib/python3.7/dist-packages (from requests->torchtext==0.9) (1.24.3)\n",
            "Requirement already satisfied: certifi>=2017.4.17 in /usr/local/lib/python3.7/dist-packages (from requests->torchtext==0.9) (2022.6.15)\n",
            "Requirement already satisfied: idna<3,>=2.5 in /usr/local/lib/python3.7/dist-packages (from requests->torchtext==0.9) (2.10)\n",
            "Requirement already satisfied: chardet<4,>=3.0.2 in /usr/local/lib/python3.7/dist-packages (from requests->torchtext==0.9) (3.0.4)\n",
            "Go until jurong point, crazy.. Available only in bugis n great world la e buffet... Cine there got amore wat...\n",
            "0\n"
          ]
        }
      ],
      "source": [
        "%pip install torchtext==0.9\n",
        "import torchtext\n",
        "\n",
        "text_field = torchtext.legacy.data.Field(sequential=True,      # text sequence\n",
        "                                  tokenize=lambda x: x, # because are building a character-RNN\n",
        "                                  include_lengths=True, # to track the length of sequences, for batching\n",
        "                                  batch_first=True,\n",
        "                                  use_vocab=True)       # to turn each character into an integer index\n",
        "label_field = torchtext.legacy.data.Field(sequential=False,    # not a sequence\n",
        "                                   use_vocab=False,     # don't need to track vocabulary\n",
        "                                   is_target=True,      \n",
        "                                   batch_first=True,\n",
        "                                   preprocessing=lambda x: int(x == 'spam')) # convert text to 0 and 1\n",
        "\n",
        "fields = [('label', label_field), ('sms', text_field)]\n",
        "dataset = torchtext.legacy.data.TabularDataset(\"SMSSpamCollection\", # name of the file\n",
        "                                        \"tsv\",               # fields are separated by a tab\n",
        "                                        fields)\n",
        "print(dataset[0].sms)\n",
        "print(dataset[0].label)\n",
        "train, valid, test = dataset.split([.6, .2, .2], True)"
      ]
    },
    {
      "cell_type": "code",
      "source": [
        "len(train)"
      ],
      "metadata": {
        "colab": {
          "base_uri": "https://localhost:8080/"
        },
        "id": "UOQ7aEk11TAb",
        "outputId": "3263edb7-8146-403c-9c59-9e008b06260d"
      },
      "execution_count": null,
      "outputs": [
        {
          "output_type": "execute_result",
          "data": {
            "text/plain": [
              "3343"
            ]
          },
          "metadata": {},
          "execution_count": 8
        }
      ]
    },
    {
      "cell_type": "code",
      "source": [
        "len(valid)"
      ],
      "metadata": {
        "colab": {
          "base_uri": "https://localhost:8080/"
        },
        "id": "ZjiB55mm1XRw",
        "outputId": "e41f5dd9-1ce0-4020-c223-6ca7dbb2b299"
      },
      "execution_count": null,
      "outputs": [
        {
          "output_type": "execute_result",
          "data": {
            "text/plain": [
              "1115"
            ]
          },
          "metadata": {},
          "execution_count": 9
        }
      ]
    },
    {
      "cell_type": "code",
      "source": [
        "len(test)"
      ],
      "metadata": {
        "colab": {
          "base_uri": "https://localhost:8080/"
        },
        "id": "P4KwOEtL1bS6",
        "outputId": "b8ea966d-177c-4031-efa0-702c7d33b90a"
      },
      "execution_count": null,
      "outputs": [
        {
          "output_type": "execute_result",
          "data": {
            "text/plain": [
              "1114"
            ]
          },
          "metadata": {},
          "execution_count": 10
        }
      ]
    },
    {
      "cell_type": "markdown",
      "metadata": {
        "id": "v6nP0Ks_a90o"
      },
      "source": [
        "### Part (e) [2 pt]\n",
        "\n",
        "You saw in part (b) that there are many more non-spam messages than spam messages.\n",
        "This **imbalance** in our training data will be problematic for training.\n",
        "We can fix this disparity by duplicating spam messages in the training set,\n",
        "so that the training set is roughly **balanced**.\n",
        "\n",
        "Explain why having a balanced training set is helpful for training our neural network.\n",
        "\n",
        "Note: if you are not sure, try removing the below code and train your mode."
      ]
    },
    {
      "cell_type": "markdown",
      "source": [
        "If our training set is not balanced it will not help us get optimized results since it will tend to overlook the underlying class hence perform poorly in the future as it might not have seen many spam messages ending up classifying them as non-spam. In order to avoid this from happening we will be including the code below."
      ],
      "metadata": {
        "id": "ccafJ7uL15lc"
      }
    },
    {
      "cell_type": "code",
      "execution_count": null,
      "metadata": {
        "collapsed": true,
        "id": "FWvx9_rka90p",
        "jupyter": {
          "outputs_hidden": true
        }
      },
      "outputs": [],
      "source": [
        "# save the original training examples\n",
        "old_train_examples = train.examples\n",
        "# get all the spam messages in `train`\n",
        "train_spam = []\n",
        "for item in train.examples:\n",
        "    if item.label == 1:\n",
        "        train_spam.append(item)\n",
        "# duplicate each spam message 6 more times\n",
        "train.examples = old_train_examples + train_spam * 6"
      ]
    },
    {
      "cell_type": "markdown",
      "metadata": {
        "id": "j7eUmBEva90r"
      },
      "source": [
        "### Part (f) [1 pt]\n",
        "\n",
        "We need to build the vocabulary on the training data by running the below code.\n",
        "This finds all the possible character tokens in the training set.\n",
        "\n",
        "Explain what the variables `text_field.vocab.stoi` and `text_field.vocab.itos` represent."
      ]
    },
    {
      "cell_type": "code",
      "execution_count": null,
      "metadata": {
        "id": "8CQM8flKa90s",
        "jupyter": {
          "outputs_hidden": true
        },
        "colab": {
          "base_uri": "https://localhost:8080/"
        },
        "outputId": "bcc69256-e8f3-4c37-f835-bdd5e87c56e5"
      },
      "outputs": [
        {
          "output_type": "stream",
          "name": "stdout",
          "text": [
            "defaultdict(<bound method Vocab._default_unk_index of <torchtext.vocab.Vocab object at 0x7f84e95c5c50>>, {'<unk>': 0, '<pad>': 1, ' ': 2, 'e': 3, 'o': 4, 't': 5, 'a': 6, 'n': 7, 'r': 8, 'i': 9, 's': 10, 'l': 11, 'u': 12, 'h': 13, '0': 14, 'd': 15, 'c': 16, '.': 17, 'm': 18, 'y': 19, 'w': 20, 'p': 21, 'g': 22, '1': 23, 'f': 24, 'b': 25, '2': 26, 'T': 27, 'k': 28, '8': 29, 'v': 30, 'E': 31, 'S': 32, '5': 33, 'C': 34, 'I': 35, 'O': 36, '4': 37, '7': 38, 'N': 39, 'x': 40, 'A': 41, '3': 42, '6': 43, 'R': 44, ',': 45, '!': 46, '9': 47, 'P': 48, 'W': 49, 'U': 50, 'M': 51, 'L': 52, 'H': 53, 'D': 54, 'B': 55, 'F': 56, 'Y': 57, '?': 58, 'G': 59, \"'\": 60, '/': 61, '£': 62, '&': 63, '-': 64, ':': 65, 'X': 66, 'V': 67, 'z': 68, 'K': 69, 'j': 70, '*': 71, ')': 72, ';': 73, 'J': 74, '+': 75, '(': 76, '\"': 77, 'q': 78, 'Q': 79, '#': 80, '>': 81, '=': 82, '@': 83, 'Z': 84, 'ü': 85, 'Ü': 86, '<': 87, '\\x92': 88, '‘': 89, '_': 90, '$': 91, '%': 92, '|': 93, '\\x93': 94, '¡': 95, '…': 96, 'ú': 97, '\\t': 98, '\\n': 99, '[': 100, '\\\\': 101, ']': 102, '\\x91': 103, '\\x94': 104, '\\x96': 105, '–': 106, '’': 107, '~': 108, '»': 109, 'è': 110, '—': 111})\n",
            "['<unk>', '<pad>', ' ', 'e', 'o', 't', 'a', 'n', 'r', 'i', 's', 'l', 'u', 'h', '0', 'd', 'c', '.', 'm', 'y', 'w', 'p', 'g', '1', 'f', 'b', '2', 'T', 'k', '8', 'v', 'E', 'S', '5', 'C', 'I', 'O', '4', '7', 'N', 'x', 'A', '3', '6', 'R', ',', '!', '9', 'P', 'W', 'U', 'M', 'L', 'H', 'D', 'B', 'F', 'Y', '?', 'G', \"'\", '/', '£', '&', '-', ':', 'X', 'V', 'z', 'K', 'j', '*', ')', ';', 'J', '+', '(', '\"', 'q', 'Q', '#', '>', '=', '@', 'Z', 'ü', 'Ü', '<', '\\x92', '‘', '_', '$', '%', '|', '\\x93', '¡', '…', 'ú', '\\t', '\\n', '[', '\\\\', ']', '\\x91', '\\x94', '\\x96', '–', '’', '~', '»', 'è', '—']\n"
          ]
        }
      ],
      "source": [
        "text_field.build_vocab(train)\n",
        "#text_field.vocab.stoi: This helps in converting all the string tokens/character into its numerical identifier (integer) i.e getting indicies for all the text.\n",
        "#text_field.vocab.itos: This helps to convert the indicies to the corresponding strings i.e a list of token strings to its corresponding numerical identifier.\n",
        "print(text_field.vocab.stoi)\n",
        "print(text_field.vocab.itos)"
      ]
    },
    {
      "cell_type": "markdown",
      "metadata": {
        "id": "TC8WVE8Ua90u"
      },
      "source": [
        "### Part (g) [2 pt]\n",
        "\n",
        "The tokens `<unk>` and `<pad>` were not in our SMS text messages.\n",
        "What do these two values represent?"
      ]
    },
    {
      "cell_type": "code",
      "execution_count": null,
      "metadata": {
        "collapsed": true,
        "id": "y_4Er7KUa90v",
        "jupyter": {
          "outputs_hidden": true
        }
      },
      "outputs": [],
      "source": [
        "#<unk> represents unknown tokens.\n",
        "\n",
        "#<pad> represents padding the text messages which have less length than the maximum\n",
        "#length within a batch of data. This is needed as when we are getting training data in batches,\n",
        "# within a single batch we must have same length data."
      ]
    },
    {
      "cell_type": "markdown",
      "metadata": {
        "id": "Ff5CNk7Qa90y"
      },
      "source": [
        "### Part (h) [2 pt]\n",
        "\n",
        "Since text sequences are of variable length, `torchtext` provides a `BucketIterator` data loader,\n",
        "which batches similar length sequences together. The iterator also provides functionalities to\n",
        "pad sequences automatically.\n",
        "\n",
        "Take a look at 10 batches in `train_iter`. What is the maximum length of the\n",
        "input sequence in each batch? How many `<pad>` tokens are used in each of the 10\n",
        "batches?"
      ]
    },
    {
      "cell_type": "code",
      "execution_count": null,
      "metadata": {
        "collapsed": true,
        "id": "V8N8qLWOa90y",
        "jupyter": {
          "outputs_hidden": true
        }
      },
      "outputs": [],
      "source": [
        "train_iter = torchtext.legacy.data.BucketIterator(train,\n",
        "                                           batch_size=32,\n",
        "                                           sort_key=lambda x: len(x.sms), # to minimize padding\n",
        "                                           sort_within_batch=True,        # sort within each batch\n",
        "                                           repeat=False)                  # repeat the iterator for many epochs"
      ]
    },
    {
      "cell_type": "code",
      "execution_count": null,
      "metadata": {
        "id": "Qwz-rOaha902",
        "jupyter": {
          "outputs_hidden": true
        },
        "colab": {
          "base_uri": "https://localhost:8080/"
        },
        "outputId": "0b939d89-3831-4c19-bb50-0d159b7d6d42"
      },
      "outputs": [
        {
          "output_type": "stream",
          "name": "stdout",
          "text": [
            "32\n",
            "(tensor([[54,  4,  2,  ..., 38, 14, 33],\n",
            "        [27, 13,  6,  ..., 23, 29, 14],\n",
            "        [27, 13,  6,  ..., 47, 47, 37],\n",
            "        ...,\n",
            "        [27, 13,  6,  ..., 23, 29, 14],\n",
            "        [66, 18,  6,  ..., 10,  5, 46],\n",
            "        [27, 13,  6,  ..., 23, 29, 14]]), tensor([157, 157, 157, 157, 157, 157, 157, 157, 157, 157, 157, 157, 157, 157,\n",
            "        157, 157, 157, 157, 157, 157, 157, 157, 157, 157, 157, 157, 157, 157,\n",
            "        157, 157, 157, 157]))\n",
            "tensor([1, 1, 1, 1, 1, 1, 0, 1, 1, 1, 1, 1, 1, 0, 1, 1, 1, 1, 1, 1, 1, 1, 0, 1,\n",
            "        0, 1, 1, 1, 1, 1, 1, 1])\n",
            "torch.Size([32, 157])\n",
            "tensor(157)\n",
            "torch.Size([32])\n",
            "torch.Size([32])\n",
            "tensor([[54,  4,  2,  ..., 38, 14, 33],\n",
            "        [27, 13,  6,  ..., 23, 29, 14],\n",
            "        [27, 13,  6,  ..., 47, 47, 37],\n",
            "        ...,\n",
            "        [27, 13,  6,  ..., 23, 29, 14],\n",
            "        [66, 18,  6,  ..., 10,  5, 46],\n",
            "        [27, 13,  6,  ..., 23, 29, 14]])\n",
            "tensor([157, 157, 157, 157, 157, 157, 157, 157, 157, 157, 157, 157, 157, 157,\n",
            "        157, 157, 157, 157, 157, 157, 157, 157, 157, 157, 157, 157, 157, 157,\n",
            "        157, 157, 157, 157])\n",
            "tensor([27, 13,  6,  7, 28, 10,  2, 24,  4,  8,  2, 19,  4, 12,  8,  2,  8,  9,\n",
            "         7, 22,  5,  4,  7,  3,  2,  4,  8, 15,  3,  8, 45,  2,  8,  3, 24,  3,\n",
            "         8,  3,  7, 16,  3,  2,  7, 12, 18, 25,  3,  8,  2, 66, 26, 47, 17,  2,\n",
            "        57,  4, 12,  8,  2, 18,  4, 25,  9, 11,  3,  2, 20,  9, 11, 11,  2, 25,\n",
            "         3,  2, 16, 13,  6,  8, 22,  3, 15,  2, 37, 17, 33, 14, 17,  2, 32, 13,\n",
            "         4, 12, 11, 15,  2, 19,  4, 12,  8,  2,  5,  4,  7,  3,  2,  7,  4,  5,\n",
            "         2,  6,  8,  8,  9, 30,  3,  2, 21, 11,  3,  6, 10,  3,  2, 16,  6, 11,\n",
            "        11,  2, 16, 12, 10,  5,  4, 18,  3,  8,  2, 10,  3,  8, 30,  9, 16,  3,\n",
            "        10,  2, 14, 47, 14, 43, 33, 47, 29, 47, 23, 29, 14])\n"
          ]
        }
      ],
      "source": [
        "for batch in train_iter:\n",
        "    \n",
        "    print(len(batch))\n",
        "    print(batch.sms)\n",
        "    print(batch.label)\n",
        "    print(batch.sms[0].shape)\n",
        "    print(batch.sms[1][0])\n",
        "    print(batch.sms[1].shape)\n",
        "    print(batch.label.shape)\n",
        "    print(batch.sms[0])\n",
        "    print(batch.sms[1])\n",
        "    print(batch.sms[0][1])\n",
        "    break"
      ]
    },
    {
      "cell_type": "code",
      "source": [
        "batches = 1\n",
        "for batch in train_iter:\n",
        "    if batches>10:\n",
        "      break\n",
        "    else:\n",
        "      print(batches)\n",
        "      print(\"max length:\", int(batch.sms[1][0]))\n",
        "      result = 0\n",
        "      print(batch.sms[1])\n",
        "      for message in range(0, len(batch.sms[1])):\n",
        "       result = result + batch.sms[1][0] - batch.sms[1][message]\n",
        "      print(\"<pad> tokens:\", int(result))\n",
        "      batches += 1"
      ],
      "metadata": {
        "colab": {
          "base_uri": "https://localhost:8080/"
        },
        "id": "LaxVDHUKjLwY",
        "outputId": "b3e22ba3-7edb-4d08-e494-bedb92ea1042"
      },
      "execution_count": null,
      "outputs": [
        {
          "output_type": "stream",
          "name": "stdout",
          "text": [
            "1\n",
            "max length: 161\n",
            "tensor([161, 161, 161, 161, 161, 161, 161, 161, 161, 161, 161, 161, 161, 161,\n",
            "        161, 161, 161, 161, 161, 161, 161, 161, 161, 161, 161, 161, 161, 161,\n",
            "        161, 161, 161, 161])\n",
            "<pad> tokens: 0\n",
            "2\n",
            "max length: 29\n",
            "tensor([29, 29, 29, 29, 29, 29, 29, 29, 29, 29, 29, 29, 29, 29, 29, 29, 29, 29,\n",
            "        29, 28, 28, 28, 28, 28, 28, 28, 28, 28, 28, 28, 28, 28])\n",
            "<pad> tokens: 13\n",
            "3\n",
            "max length: 910\n",
            "tensor([910, 611, 482, 458, 444, 431, 375, 368, 338, 329, 329, 324, 324, 316,\n",
            "        289, 281, 276, 248, 245, 245, 240, 237, 237, 236, 234, 232, 230, 226,\n",
            "        212, 205, 204, 202])\n",
            "<pad> tokens: 18802\n",
            "4\n",
            "max length: 159\n",
            "tensor([159, 159, 159, 159, 159, 159, 159, 159, 159, 159, 159, 159, 159, 159,\n",
            "        159, 159, 159, 159, 158, 158, 158, 158, 158, 158, 158, 158, 158, 158,\n",
            "        158, 158, 158, 158])\n",
            "<pad> tokens: 14\n",
            "5\n",
            "max length: 122\n",
            "tensor([122, 122, 122, 121, 121, 121, 121, 121, 121, 121, 121, 121, 121, 121,\n",
            "        121, 121, 121, 121, 121, 120, 120, 120, 120, 120, 120, 120, 120, 120,\n",
            "        120, 120, 120, 120])\n",
            "<pad> tokens: 42\n",
            "6\n",
            "max length: 160\n",
            "tensor([160, 160, 160, 160, 160, 160, 160, 160, 160, 160, 160, 160, 160, 160,\n",
            "        160, 160, 160, 160, 160, 160, 160, 160, 160, 160, 160, 160, 160, 160,\n",
            "        160, 160, 160, 160])\n",
            "<pad> tokens: 0\n",
            "7\n",
            "max length: 32\n",
            "tensor([32, 32, 32, 32, 32, 32, 32, 32, 32, 32, 32, 32, 32, 32, 32, 31, 31, 31,\n",
            "        31, 31, 31, 31, 31, 31, 31, 31, 31, 31, 31, 31, 31, 31])\n",
            "<pad> tokens: 17\n",
            "8\n",
            "max length: 145\n",
            "tensor([145, 145, 145, 145, 145, 145, 145, 145, 145, 145, 145, 145, 145, 145,\n",
            "        145, 145, 145, 145, 145, 145, 145, 145, 145, 145, 145, 145, 145, 145,\n",
            "        145, 145, 145, 145])\n",
            "<pad> tokens: 0\n",
            "9\n",
            "max length: 40\n",
            "tensor([40, 40, 40, 40, 40, 40, 40, 39, 39, 39, 39, 39, 39, 39, 39, 39, 39, 39,\n",
            "        39, 39, 39, 39, 39, 39, 39, 39, 39, 39, 39, 39, 38, 38])\n",
            "<pad> tokens: 27\n",
            "10\n",
            "max length: 143\n",
            "tensor([143, 143, 143, 143, 143, 143, 143, 143, 143, 143, 143, 143, 143, 143,\n",
            "        143, 143, 143, 143, 143, 143, 143, 143, 143, 143, 143, 143, 143, 142,\n",
            "        142, 142, 142, 142])\n",
            "<pad> tokens: 5\n"
          ]
        }
      ]
    },
    {
      "cell_type": "markdown",
      "metadata": {
        "id": "y7HnqP6_a904"
      },
      "source": [
        "## Part 2. Model Building [8 pt]\n",
        "\n",
        "Build a recurrent neural network model, using an architecture of your choosing. \n",
        "Use the one-hot embedding of each character as input to your recurrent network.\n",
        "Use one or more fully-connected layers to make the prediction based on your\n",
        "recurrent network output.\n",
        "\n",
        "Instead of using the RNN output value for the final token, another often used\n",
        "strategy is to max-pool over the entire output array. That is, instead of calling\n",
        "something like:\n",
        "\n",
        "```\n",
        "out, _ = self.rnn(x)\n",
        "self.fc(out[:, -1, :])\n",
        "```\n",
        "\n",
        "where `self.rnn` is an `nn.RNN`, `nn.GRU`, or `nn.LSTM` module, and `self.fc` is a \n",
        "fully-connected \n",
        "layer, we use:\n",
        "\n",
        "```\n",
        "out, _ = self.rnn(x)\n",
        "self.fc(torch.max(out, dim=1)[0])\n",
        "```\n",
        "\n",
        "This works reasonably in practice. An even better alternative is to concatenate the\n",
        "max-pooling and average-pooling of the RNN outputs:\n",
        "\n",
        "```\n",
        "out, _ = self.rnn(x)\n",
        "out = torch.cat([torch.max(out, dim=1)[0], \n",
        "                 torch.mean(out, dim=1)], dim=1)\n",
        "self.fc(out)\n",
        "```\n",
        "\n",
        "We encourage you to try out all these options. The way you pool the RNN outputs\n",
        "is one of the \"hyperparameters\" that you can choose to tune later on."
      ]
    },
    {
      "cell_type": "code",
      "execution_count": null,
      "metadata": {
        "id": "jHl1p_Wwa905",
        "jupyter": {
          "outputs_hidden": true
        },
        "colab": {
          "base_uri": "https://localhost:8080/"
        },
        "outputId": "5ef14b84-cab6-4e49-db57-ca29fa6f06b8"
      },
      "outputs": [
        {
          "output_type": "stream",
          "name": "stdout",
          "text": [
            "tensor([1., 0., 0., 0., 0., 0., 0., 0., 0., 0.])\n",
            "tensor([0., 1., 0., 0., 0., 0., 0., 0., 0., 0.])\n",
            "tensor([[[0., 1., 0., 0., 0., 0., 0., 0., 0., 0.],\n",
            "         [0., 0., 1., 0., 0., 0., 0., 0., 0., 0.]],\n",
            "\n",
            "        [[0., 0., 0., 1., 0., 0., 0., 0., 0., 0.],\n",
            "         [0., 0., 0., 0., 1., 0., 0., 0., 0., 0.]]])\n"
          ]
        }
      ],
      "source": [
        "# You might find this code helpful for obtaining\n",
        "# PyTorch one-hot vectors.\n",
        "\n",
        "ident = torch.eye(10)\n",
        "print(ident[0]) # one-hot vector\n",
        "print(ident[1]) # one-hot vector\n",
        "x = torch.tensor([[1, 2], [3, 4]])\n",
        "print(ident[x]) # one-hot vectors"
      ]
    },
    {
      "cell_type": "code",
      "execution_count": null,
      "metadata": {
        "collapsed": true,
        "id": "4LTQ7zFka909",
        "jupyter": {
          "outputs_hidden": true
        }
      },
      "outputs": [],
      "source": [
        "class TweetRNN(nn.Module):\n",
        "    def __init__(self, input_size, hidden_size, num_classes):\n",
        "        self.name = \"TweetRNN\"\n",
        "        super(TweetRNN, self).__init__()\n",
        "        self.emb = torch.eye(input_size)\n",
        "        self.hidden_size = hidden_size\n",
        "        self.rnn = nn.RNN(input_size, hidden_size, batch_first=True)\n",
        "        self.fc = nn.Linear(hidden_size, num_classes)\n",
        "    \n",
        "    def forward(self, x):\n",
        "        # Look up the embedding\n",
        "        x = self.emb[x]\n",
        "        # Set an initial hidden state\n",
        "        h0 = torch.zeros(1, x.size(0), self.hidden_size)\n",
        "        # Forward propagate the RNN\n",
        "        out, _ = self.rnn(x, h0)\n",
        "        # Pass the output of the last time step to the classifier\n",
        "        out = self.fc(out[:, -1, :])\n",
        "        return out"
      ]
    },
    {
      "cell_type": "markdown",
      "metadata": {
        "id": "vKIYPl_Ba90_"
      },
      "source": [
        "## Part 3. Training [16 pt]\n",
        "\n",
        "### Part (a) [4 pt]\n",
        "\n",
        "Complete the `get_accuracy` function, which will compute the\n",
        "accuracy (rate) of your model across a dataset (e.g. validation set).\n",
        "You may modify `torchtext.data.BucketIterator` to make your computation\n",
        "faster."
      ]
    },
    {
      "cell_type": "code",
      "execution_count": null,
      "metadata": {
        "collapsed": true,
        "id": "pvNfhGD6a91A",
        "jupyter": {
          "outputs_hidden": true
        }
      },
      "outputs": [],
      "source": [
        "def get_accuracy(model,batch_size,  data):\n",
        "    \"\"\" Compute the accuracy of the `model` across a dataset `data`\n",
        "    \n",
        "    Example usage:\n",
        "    \n",
        "    >>> model = MyRNN() # to be defined\n",
        "    >>> get_accuracy(model, valid) # the variable `valid` is from above\n",
        "    \"\"\"\n",
        "    data_iter = torchtext.legacy.data.BucketIterator(data,\n",
        "                                           batch_size=batch_size,\n",
        "                                           sort_key=lambda x: len(x.sms), # to minimize padding\n",
        "                                           sort_within_batch=True,        # sort within each batch\n",
        "                                           repeat=False)                  # repeat the iterator for many epochs\n",
        "\n",
        "    correct = 0\n",
        "    total = 0\n",
        "    for sms_data, labels in data_iter:\n",
        "\n",
        "        output = model(sms_data[0])\n",
        "        \n",
        "        #select index with maximum prediction score\n",
        "        pred = output.max(1, keepdim=True)[1]\n",
        "        correct += pred.eq(labels.view_as(pred)).sum().item()\n",
        "        total += labels.shape[0]\n",
        "\n",
        "    return correct / total"
      ]
    },
    {
      "cell_type": "markdown",
      "metadata": {
        "id": "TlxlcAC1a91C"
      },
      "source": [
        "### Part (b) [4 pt]\n",
        "\n",
        "Train your model. Plot the training curve of your final model. \n",
        "Your training curve should have the training/validation loss and\n",
        "accuracy plotted periodically.\n",
        "\n",
        "Note: Not all of your batches will have the same batch size.\n",
        "In particular, if your training set does not divide evenly by\n",
        "your batch size, there will be a batch that is smaller than\n",
        "the rest. "
      ]
    },
    {
      "cell_type": "code",
      "source": [
        "import matplotlib.pyplot as plt"
      ],
      "metadata": {
        "id": "Z7l6NiO8q_P7"
      },
      "execution_count": null,
      "outputs": []
    },
    {
      "cell_type": "code",
      "execution_count": null,
      "metadata": {
        "collapsed": true,
        "id": "CVtf7CJCa91D",
        "jupyter": {
          "outputs_hidden": true
        }
      },
      "outputs": [],
      "source": [
        "def train_rnn(model, train, valid, batch_size=64, learning_rate=0.001, num_epochs=1):\n",
        "   \n",
        "    train_loader = torchtext.legacy.data.BucketIterator(train,\n",
        "                                           batch_size=batch_size,\n",
        "                                           sort_key=lambda x: len(x.sms), # to minimize padding\n",
        "                                           sort_within_batch=True,        # sort within each batch\n",
        "                                           repeat=False)                  # repeat the iterator for many epochs\n",
        "    valid_loader = torchtext.legacy.data.BucketIterator(valid,\n",
        "                                           batch_size=batch_size,\n",
        "                                           sort_key=lambda x: len(x.sms), # to minimize padding\n",
        "                                           sort_within_batch=True,        # sort within each batch\n",
        "                                           repeat=False)                  # repeat the iterator for many epochs\n",
        "    \n",
        "    criterion = nn.CrossEntropyLoss()\n",
        "    optimizer = optim.SGD(model.parameters(), lr=learning_rate, momentum=0.9)\n",
        "    iters, train_losses, val_losses, train_acc, val_acc = [], [], [], [], []\n",
        "\n",
        "    # training\n",
        "    \n",
        "    for epoch in range(num_epochs):\n",
        "  \n",
        "        for sms_data, labels in train_loader:\n",
        "            out = model(sms_data[0])             # forward pass\n",
        "            #print(\"hi_train\")\n",
        "            \n",
        "            train_loss = criterion(out, labels) # compute the total loss\n",
        "            train_loss.backward()               # backward pass (compute parameter updates)\n",
        "            optimizer.step()              # make the updates for each parameter\n",
        "            optimizer.zero_grad()         # a clean up step for PyTorch\n",
        "\n",
        "        for sms_data, labels in valid_loader:\n",
        "            \n",
        "            out = model(sms_data[0])             # forward pass\n",
        "            #print(\"hi_val\")\n",
        "            \n",
        "            val_loss = criterion(out, labels) # compute the total loss\n",
        "\n",
        "\n",
        "        # save the current training information\n",
        "        iters.append(epoch)\n",
        "        train_losses.append(float(train_loss))             # compute *average* loss\n",
        "        val_losses.append(float(val_loss))             # compute *average* loss\n",
        "        train_acc.append(get_accuracy(model, batch_size, train)) # compute training accuracy\n",
        "        print(\"epoch number \", epoch+1, \"accuracy: \",train_acc[epoch])\n",
        "        print(\"Loss: \", train_losses[epoch-1], \"epoch number \", epoch)\n",
        " \n",
        "        val_acc.append(get_accuracy(model, batch_size, valid))  # compute validation accuracy\n",
        "        model_path = \"model_{0}_bs{1}_lr{2}_epoch{3}\".format(model.name, batch_size, learning_rate, epoch)\n",
        "        torch.save(model.state_dict(), model_path)\n",
        "    # plotting\n",
        "    plt.title(\"Training Curve\")\n",
        "    plt.plot(iters, train_losses, label=\"Train\")\n",
        "    plt.plot(iters, val_losses, label=\"Validation\")\n",
        "    plt.xlabel(\"Iterations\")\n",
        "    plt.ylabel(\"Loss\")\n",
        "    plt.show()\n",
        "\n",
        "    plt.title(\"Training Curve\")\n",
        "    plt.plot(iters, train_acc, label=\"Train\")\n",
        "    plt.plot(iters, val_acc, label=\"Validation\")\n",
        "    plt.xlabel(\"Iterations\")\n",
        "    plt.ylabel(\"Training Accuracy\")\n",
        "    plt.legend(loc='best')\n",
        "    plt.show()\n",
        "\n",
        "    print(\"Final Training Accuracy: {}\".format(train_acc[-1]))\n",
        "    print(\"Final Validation Accuracy: {}\".format(val_acc[-1]))\n",
        "\n",
        "       "
      ]
    },
    {
      "cell_type": "code",
      "source": [
        "input_size = len(text_field.vocab.itos)"
      ],
      "metadata": {
        "id": "BWcyLv3CrPWD"
      },
      "execution_count": null,
      "outputs": []
    },
    {
      "cell_type": "code",
      "source": [
        "print(input_size)"
      ],
      "metadata": {
        "colab": {
          "base_uri": "https://localhost:8080/"
        },
        "id": "QyZR5h2urjiL",
        "outputId": "2eb93065-ee06-4b5b-91be-d71fd586b2fd"
      },
      "execution_count": null,
      "outputs": [
        {
          "output_type": "stream",
          "name": "stdout",
          "text": [
            "112\n"
          ]
        }
      ]
    },
    {
      "cell_type": "code",
      "source": [
        "model = TweetRNN(input_size, 100, 2)   \n",
        "train_rnn(model, train, valid, 64, 0.001, 20)"
      ],
      "metadata": {
        "colab": {
          "base_uri": "https://localhost:8080/",
          "height": 1000
        },
        "id": "lb0RqOPhhIdv",
        "outputId": "436ab3db-f418-4a95-e593-75910e49a9f7"
      },
      "execution_count": null,
      "outputs": [
        {
          "output_type": "stream",
          "name": "stdout",
          "text": [
            "epoch number  1 accuracy:  0.5453490300116067\n",
            "Loss:  0.7111393213272095 epoch number  0\n",
            "epoch number  2 accuracy:  0.6166473221687946\n",
            "Loss:  0.7111393213272095 epoch number  1\n",
            "epoch number  3 accuracy:  0.6375393798706682\n",
            "Loss:  0.6195990443229675 epoch number  2\n",
            "epoch number  4 accuracy:  0.649809318520975\n",
            "Loss:  0.6982496976852417 epoch number  3\n",
            "epoch number  5 accuracy:  0.6537887580832367\n",
            "Loss:  0.6623086333274841 epoch number  4\n",
            "epoch number  6 accuracy:  0.6770021555297628\n",
            "Loss:  0.5799354314804077 epoch number  5\n",
            "epoch number  7 accuracy:  0.6630741170618472\n",
            "Loss:  0.7897071838378906 epoch number  6\n",
            "epoch number  8 accuracy:  0.6967335433593103\n",
            "Loss:  0.5324826836585999 epoch number  7\n",
            "epoch number  9 accuracy:  0.6662245067153043\n",
            "Loss:  0.674041748046875 epoch number  8\n",
            "epoch number  10 accuracy:  0.7347040291825568\n",
            "Loss:  0.8086583614349365 epoch number  9\n",
            "epoch number  11 accuracy:  0.6702039462775659\n",
            "Loss:  0.7635628581047058 epoch number  10\n",
            "epoch number  12 accuracy:  0.7706847952246725\n",
            "Loss:  0.5722299218177795 epoch number  11\n",
            "epoch number  13 accuracy:  0.7138119714806831\n",
            "Loss:  0.3586149215698242 epoch number  12\n",
            "epoch number  14 accuracy:  0.8101475708837672\n",
            "Loss:  0.5045804381370544 epoch number  13\n",
            "epoch number  15 accuracy:  0.8005305919416349\n",
            "Loss:  0.47026801109313965 epoch number  14\n",
            "epoch number  16 accuracy:  0.8773006134969326\n",
            "Loss:  0.3031288683414459 epoch number  15\n",
            "epoch number  17 accuracy:  0.6707013762228486\n",
            "Loss:  0.29961439967155457 epoch number  16\n",
            "epoch number  18 accuracy:  0.7237605703863372\n",
            "Loss:  0.5267668962478638 epoch number  17\n",
            "epoch number  19 accuracy:  0.6779970154203283\n",
            "Loss:  0.7572015523910522 epoch number  18\n",
            "epoch number  20 accuracy:  0.7347040291825568\n",
            "Loss:  0.6398531198501587 epoch number  19\n"
          ]
        },
        {
          "output_type": "display_data",
          "data": {
            "text/plain": [
              "<Figure size 432x288 with 1 Axes>"
            ],
            "image/png": "[encoded data removed]"
          },
          "metadata": {
            "needs_background": "light"
          }
        },
        {
          "output_type": "display_data",
          "data": {
            "text/plain": [
              "<Figure size 432x288 with 1 Axes>"
            ],
            "image/png": "[encoded data removed]"
          },
          "metadata": {
            "needs_background": "light"
          }
        },
        {
          "output_type": "stream",
          "name": "stdout",
          "text": [
            "Final Training Accuracy: 0.7347040291825568\n",
            "Final Validation Accuracy: 0.7937219730941704\n"
          ]
        }
      ]
    },
    {
      "cell_type": "markdown",
      "metadata": {
        "id": "fE3eRkDAa91F"
      },
      "source": [
        "### Part (c) [4 pt]\n",
        "\n",
        "Choose at least 4 hyperparameters to tune. Explain how you tuned the hyperparameters.\n",
        "You don't need to include your training curve for every model you trained.\n",
        "Instead, explain what hyperparemters you tuned, what the best validation accuracy was,\n",
        "and the reasoning behind the hyperparameter decisions you made.\n",
        "\n",
        "For this assignment, you should tune more than just your learning rate and epoch. \n",
        "Choose at least 2 hyperparameters that are unrelated to the optimizer."
      ]
    },
    {
      "cell_type": "markdown",
      "source": [
        "The hyperparameters I trained were:\n",
        "\n",
        "1. Learning rate\n",
        "2. Number of epochs\n",
        "3. The architecture of the model (changing how the output was returned as discussed in Part 2 (model Building))\n",
        "4. Hidden size in the architecture"
      ],
      "metadata": {
        "id": "Vp9a4g1RkOaT"
      }
    },
    {
      "cell_type": "markdown",
      "source": [
        "**model_2:** TweetRNN(input_size, 200, 2)\n",
        "\n",
        "Batch_size: 64, Lr: 0.001, Epoch: 20\n",
        "\n",
        "For this model I used the same learning rate, no. of epochs and the batch size as model had given a final validation accuracy of 79% which is decent. However one change which I made was to use 200 as the hidden size of the model. This was beneficial as our final validation accuracy increased by 10% from 79 to 89%.\n",
        "\n",
        "**model_3:** TweetRNN_2(input_size, 200, 2)\n",
        "\n",
        "Batch_size: 32, Lr: 0.005, Epoch: 10\n",
        " \n",
        "For this model I ended up defining a new model (TweetRNN_2) which returned the concatenation of the max-pooling and average-pooling of the RNN outputs. I will the hidden_size the same as before in all models going forward (200) as that gave better results over 100. (observed by comparing model and model_2) I also changed the batch size to 32, the learning rate to 0.005 and the number of epochs to 10. This was done to check how the model would respons to these hyperparameters, which we can change later on if the accuracy wasnt as per our expectations. \n",
        "\n",
        "**model_4:** TweetRNN_3(input_size, 100, 2)\n",
        "\n",
        "Batch_size: 32, Lr: 0.0005, Epoch: 15\n",
        "\n",
        "For model_3 we got a validation accuracy of 21% which is far below what we expected hence to optimize the hyperparameters we decide that TweetRNN_2 was not the best model and I ended up defining another model which will max-pool over the entire output array TweetRNN_3(input_size, 100, 2). \n",
        "\n",
        "For the other hyperparameters it was observed that since increasing the lr from 0.001 to 0.005 gave bad results, I decided to decrease the lr to 0.0005 and check whether that would help in improving the results. Moreover I changed the number of epochs from 10 to 15 (in between the number of epochs for model_2 and model_3).\n",
        "\n",
        "**Using model_4 we obtained a validation accuracy of 96%, which is a really good accuracy as compared to all the other models. Hence, the hyperparameters chosen for model_4 were the best ones out of all.**"
      ],
      "metadata": {
        "id": "d_coZO9VlU-d"
      }
    },
    {
      "cell_type": "code",
      "source": [
        "def train_rnn_nocurves(model, train, valid, batch_size=64, learning_rate=0.001, num_epochs=1):\n",
        "   \n",
        "    train_loader = torchtext.legacy.data.BucketIterator(train,\n",
        "                                           batch_size=batch_size,\n",
        "                                           sort_key=lambda x: len(x.sms), # to minimize padding\n",
        "                                           sort_within_batch=True,        # sort within each batch\n",
        "                                           repeat=False)                  # repeat the iterator for many epochs\n",
        "    valid_loader = torchtext.legacy.data.BucketIterator(valid,\n",
        "                                           batch_size=batch_size,\n",
        "                                           sort_key=lambda x: len(x.sms), # to minimize padding\n",
        "                                           sort_within_batch=True,        # sort within each batch\n",
        "                                           repeat=False)                  # repeat the iterator for many epochs\n",
        "    \n",
        "    criterion = nn.CrossEntropyLoss()\n",
        "    optimizer = optim.SGD(model.parameters(), lr=learning_rate, momentum=0.9)\n",
        "    iters, train_losses, val_losses, train_acc, val_acc = [], [], [], [], []\n",
        "\n",
        "    # training\n",
        "    \n",
        "    for epoch in range(num_epochs):\n",
        "  \n",
        "        for sms_data, labels in train_loader:\n",
        "            out = model(sms_data[0])             # forward pass\n",
        "            #print(\"hi_train\")\n",
        "            \n",
        "            train_loss = criterion(out, labels) # compute the total loss\n",
        "            train_loss.backward()               # backward pass (compute parameter updates)\n",
        "            optimizer.step()              # make the updates for each parameter\n",
        "            optimizer.zero_grad()         # a clean up step for PyTorch\n",
        "\n",
        "        for sms_data, labels in valid_loader:\n",
        "            \n",
        "            out = model(sms_data[0])             # forward pass\n",
        "            #print(\"hi_val\")\n",
        "            \n",
        "            val_loss = criterion(out, labels) # compute the total loss\n",
        "\n",
        "\n",
        "        # save the current training information\n",
        "        iters.append(epoch)\n",
        "        train_losses.append(float(train_loss))             # compute *average* loss\n",
        "        val_losses.append(float(val_loss))             # compute *average* loss\n",
        "        train_acc.append(get_accuracy(model, batch_size, train)) # compute training accuracy\n",
        "        print(\"epoch number \", epoch+1, \"accuracy: \",train_acc[epoch])\n",
        "        print(\"Loss: \", train_losses[epoch-1], \"epoch number \", epoch)\n",
        " \n",
        "        val_acc.append(get_accuracy(model, batch_size, valid))  # compute validation accuracy\n",
        "        model_path = \"model_{0}_bs{1}_lr{2}_epoch{3}\".format(model.name, batch_size, learning_rate, epoch)\n",
        "        torch.save(model.state_dict(), model_path)\n",
        "\n",
        "    print(\"Final Training Accuracy: {}\".format(train_acc[-1]))\n",
        "    print(\"Final Validation Accuracy: {}\".format(val_acc[-1]))"
      ],
      "metadata": {
        "id": "UMj6NqZgjtO2"
      },
      "execution_count": null,
      "outputs": []
    },
    {
      "cell_type": "code",
      "source": [
        "model_2 = TweetRNN(input_size, 200, 2)   \n",
        "train_rnn_nocurves(model_2, train, valid, 64, 0.001, 20)"
      ],
      "metadata": {
        "colab": {
          "base_uri": "https://localhost:8080/"
        },
        "id": "ULBBHQ8xj38Y",
        "outputId": "c8ee194c-85d2-4bc8-f6c8-2c44e86f7af3"
      },
      "execution_count": null,
      "outputs": [
        {
          "output_type": "stream",
          "name": "stdout",
          "text": [
            "epoch number  1 accuracy:  0.5806665561266788\n",
            "Loss:  0.6867740154266357 epoch number  0\n",
            "epoch number  2 accuracy:  0.5218040126015586\n",
            "Loss:  0.6867740154266357 epoch number  1\n",
            "epoch number  3 accuracy:  0.6471563588128005\n",
            "Loss:  0.600639283657074 epoch number  2\n",
            "epoch number  4 accuracy:  0.6862875145083734\n",
            "Loss:  0.6871445775032043 epoch number  3\n",
            "epoch number  5 accuracy:  0.6440059691593434\n",
            "Loss:  0.6648056507110596 epoch number  4\n",
            "epoch number  6 accuracy:  0.6743491958215885\n",
            "Loss:  0.5793871283531189 epoch number  5\n",
            "epoch number  7 accuracy:  0.7189520809152711\n",
            "Loss:  0.8417944312095642 epoch number  6\n",
            "epoch number  8 accuracy:  0.785110263637871\n",
            "Loss:  0.4454331696033478 epoch number  7\n",
            "epoch number  9 accuracy:  0.6522964682473885\n",
            "Loss:  0.5402439832687378 epoch number  8\n",
            "epoch number  10 accuracy:  0.6725252860222185\n",
            "Loss:  0.7847071886062622 epoch number  9\n",
            "epoch number  11 accuracy:  0.7118222516995523\n",
            "Loss:  0.7589148879051208 epoch number  10\n",
            "epoch number  12 accuracy:  0.6584314375725419\n",
            "Loss:  0.7241904139518738 epoch number  11\n",
            "epoch number  13 accuracy:  0.6834687448184381\n",
            "Loss:  0.4860576093196869 epoch number  12\n",
            "epoch number  14 accuracy:  0.7575858066655613\n",
            "Loss:  0.6730570197105408 epoch number  13\n",
            "epoch number  15 accuracy:  0.7388492787265794\n",
            "Loss:  0.6042817234992981 epoch number  14\n",
            "epoch number  16 accuracy:  0.7609020063007793\n",
            "Loss:  0.3618539869785309 epoch number  15\n",
            "epoch number  17 accuracy:  0.8504393964516664\n",
            "Loss:  0.6688634157180786 epoch number  16\n",
            "epoch number  18 accuracy:  0.7683634554800199\n",
            "Loss:  0.3089885115623474 epoch number  17\n",
            "epoch number  19 accuracy:  0.7194495108605538\n",
            "Loss:  0.6733177304267883 epoch number  18\n",
            "epoch number  20 accuracy:  0.7085060520643343\n",
            "Loss:  0.8157563209533691 epoch number  19\n",
            "Final Training Accuracy: 0.7085060520643343\n",
            "Final Validation Accuracy: 0.8914798206278027\n"
          ]
        }
      ]
    },
    {
      "cell_type": "code",
      "source": [
        "class TweetRNN_2(nn.Module):\n",
        "    def __init__(self, input_size, hidden_size, num_classes):\n",
        "        self.name = \"TweetRNN_2\"\n",
        "        super(TweetRNN_2, self).__init__()\n",
        "        self.emb = torch.eye(input_size)\n",
        "        self.hidden_size = hidden_size\n",
        "        self.rnn = nn.RNN(input_size, hidden_size, batch_first=True)\n",
        "        self.fc = nn.Linear(hidden_size, num_classes)\n",
        "    \n",
        "    def forward(self, x):\n",
        "        # Look up the embedding\n",
        "        x = self.emb[x]\n",
        "        # Set an initial hidden state\n",
        "        h0 = torch.zeros(1, x.size(0), self.hidden_size)\n",
        "        # Forward propagate the RNN\n",
        "        out, _ = self.rnn(x, h0)\n",
        "        # Pass the output of the last time step to the classifier\n",
        "        #out = self.fc(out[:, -1, :])\n",
        "        out = torch.cat([torch.max(out, dim=1)[0], \n",
        "                 torch.mean(out, dim=1)], dim=1)\n",
        "        return out"
      ],
      "metadata": {
        "id": "RF3aWQE46vVE"
      },
      "execution_count": null,
      "outputs": []
    },
    {
      "cell_type": "code",
      "source": [
        "model_3 = TweetRNN_2(input_size, 200, 2)\n",
        "train_rnn_nocurves(model_3, train, valid, 32, 0.005, 10)"
      ],
      "metadata": {
        "colab": {
          "base_uri": "https://localhost:8080/"
        },
        "id": "HZccYkSllXMG",
        "outputId": "4fb26f13-6e5b-4dba-bcd1-b525d92668d5"
      },
      "execution_count": null,
      "outputs": [
        {
          "output_type": "stream",
          "name": "stdout",
          "text": [
            "epoch number  1 accuracy:  0.5496600895373902\n",
            "Loss:  4.674309253692627 epoch number  0\n",
            "epoch number  2 accuracy:  0.4828386668877466\n",
            "Loss:  4.674309253692627 epoch number  1\n",
            "epoch number  3 accuracy:  0.47885922732548497\n",
            "Loss:  4.553764343261719 epoch number  2\n",
            "epoch number  4 accuracy:  0.5680649975128502\n",
            "Loss:  4.507992267608643 epoch number  3\n",
            "epoch number  5 accuracy:  0.5680649975128502\n",
            "Loss:  4.464175224304199 epoch number  4\n",
            "epoch number  6 accuracy:  0.5680649975128502\n",
            "Loss:  4.426294803619385 epoch number  5\n",
            "epoch number  7 accuracy:  0.5680649975128502\n",
            "Loss:  4.3972063064575195 epoch number  6\n",
            "epoch number  8 accuracy:  0.5680649975128502\n",
            "Loss:  4.368196487426758 epoch number  7\n",
            "epoch number  9 accuracy:  0.5675675675675675\n",
            "Loss:  4.347356796264648 epoch number  8\n",
            "epoch number  10 accuracy:  0.5675675675675675\n",
            "Loss:  4.322461128234863 epoch number  9\n",
            "Final Training Accuracy: 0.5675675675675675\n",
            "Final Validation Accuracy: 0.21076233183856502\n"
          ]
        }
      ]
    },
    {
      "cell_type": "code",
      "source": [
        "class TweetRNN_3(nn.Module):\n",
        "    def __init__(self, input_size, hidden_size, num_classes):\n",
        "        self.name = \"TweetRNN_3\"\n",
        "        super(TweetRNN_3, self).__init__()\n",
        "        self.emb = torch.eye(input_size)\n",
        "        self.hidden_size = hidden_size\n",
        "        self.rnn = nn.RNN(input_size, hidden_size, batch_first=True)\n",
        "        self.fc = nn.Linear(hidden_size, num_classes)\n",
        "    \n",
        "    def forward(self, x):\n",
        "        # Look up the embedding\n",
        "        x = self.emb[x]\n",
        "        # Set an initial hidden state\n",
        "        h0 = torch.zeros(1, x.size(0), self.hidden_size)\n",
        "        # Forward propagate the RNN\n",
        "        out, _ = self.rnn(x, h0)\n",
        "        # Pass the output of the last time step to the classifier\n",
        "        out = self.fc(torch.max(out, dim=1)[0])\n",
        "        return out"
      ],
      "metadata": {
        "id": "ZV7BSr3tkBzp"
      },
      "execution_count": null,
      "outputs": []
    },
    {
      "cell_type": "code",
      "source": [
        "model_4 = TweetRNN_3(input_size, 200, 2)\n",
        "train_rnn_nocurves(model_4, train, valid, 32, 0.0005, 15)"
      ],
      "metadata": {
        "colab": {
          "base_uri": "https://localhost:8080/"
        },
        "id": "bCyzI67Xu-tL",
        "outputId": "8f44a801-20ae-4ed3-b8ab-cfd3b1b7abe5"
      },
      "execution_count": null,
      "outputs": [
        {
          "output_type": "stream",
          "name": "stdout",
          "text": [
            "epoch number  1 accuracy:  0.5199801028021886\n",
            "Loss:  0.7666622996330261 epoch number  0\n",
            "epoch number  2 accuracy:  0.5199801028021886\n",
            "Loss:  0.7666622996330261 epoch number  1\n",
            "epoch number  3 accuracy:  0.5199801028021886\n",
            "Loss:  0.6758900284767151 epoch number  2\n",
            "epoch number  4 accuracy:  0.5247885922732548\n",
            "Loss:  0.7198995351791382 epoch number  3\n",
            "epoch number  5 accuracy:  0.5534737191178909\n",
            "Loss:  0.7378212213516235 epoch number  4\n",
            "epoch number  6 accuracy:  0.5793400762725917\n",
            "Loss:  0.5767644643783569 epoch number  5\n",
            "epoch number  7 accuracy:  0.9469408058365114\n",
            "Loss:  0.6780040264129639 epoch number  6\n",
            "epoch number  8 accuracy:  0.9351682971314873\n",
            "Loss:  0.5765692591667175 epoch number  7\n",
            "epoch number  9 accuracy:  0.9240590283535068\n",
            "Loss:  0.5592514276504517 epoch number  8\n",
            "epoch number  10 accuracy:  0.920577018736528\n",
            "Loss:  0.37191689014434814 epoch number  9\n",
            "epoch number  11 accuracy:  0.9303598076604211\n",
            "Loss:  0.30245307087898254 epoch number  10\n",
            "epoch number  12 accuracy:  0.9303598076604211\n",
            "Loss:  0.2683574855327606 epoch number  11\n",
            "epoch number  13 accuracy:  0.9336760072956392\n",
            "Loss:  0.3111402988433838 epoch number  12\n",
            "epoch number  14 accuracy:  0.9207428287182888\n",
            "Loss:  0.14982108771800995 epoch number  13\n",
            "epoch number  15 accuracy:  0.9320179074780301\n",
            "Loss:  0.2779015898704529 epoch number  14\n",
            "Final Training Accuracy: 0.9320179074780301\n",
            "Final Validation Accuracy: 0.9659192825112107\n"
          ]
        }
      ]
    },
    {
      "cell_type": "markdown",
      "metadata": {
        "id": "v7DY56rKa91I"
      },
      "source": [
        "### Part (d) [2 pt]\n",
        "\n",
        "Before we deploy a machine learning model, we usually want to have a better understanding\n",
        "of how our model performs beyond its validation accuracy. An important metric to track is\n",
        "*how well our model performs in certain subsets of the data*.\n",
        "\n",
        "In particular, what is the model's error rate amongst data with negative labels?\n",
        "This is called the **false positive rate**.\n",
        "\n",
        "What about the model's error rate amongst data with positive labels?\n",
        "This is called the **false negative rate**.\n",
        "\n",
        "Report your final model's false positive and false negative rate across the\n",
        "validation set."
      ]
    },
    {
      "cell_type": "code",
      "source": [
        "def get_model_name(name, batch_size, learning_rate, epoch):\n",
        "    \"\"\" Generate a name for the model consisting of all the hyperparameter values\n",
        "\n",
        "    Args:\n",
        "        config: Configuration object containing the hyperparameters\n",
        "    Returns:\n",
        "        path: A string with the hyperparameter name and value concatenated\n",
        "    \"\"\"\n",
        "   \n",
        "    path = \"model_{0}_bs{1}_lr{2}_epoch{3}\".format(model.name, batch_size, learning_rate, epoch)\n",
        "    return path"
      ],
      "metadata": {
        "id": "rSOhbXXDoZ8l"
      },
      "execution_count": null,
      "outputs": []
    },
    {
      "cell_type": "code",
      "source": [
        "# Create a Dataset of only spam validation examples\n",
        "valid_spam = torchtext.legacy.data.Dataset(\n",
        "    [e for e in valid.examples if e.label == 1],\n",
        "    valid.fields)\n",
        "# Create a Dataset of only non-spam validation examples\n",
        "valid_nospam = torchtext.legacy.data.Dataset(\n",
        "    [e for e in valid.examples if e.label == 0],\n",
        "    valid.fields)\n",
        "model_path = get_model_name(model_4.name, batch_size=32, learning_rate=0.0005, epoch=14)\n",
        "state = torch.load(model_path)\n",
        "model_4.load_state_dict(state)\n",
        "\n",
        "false_positive = 1- get_accuracy(model_4, 32, valid_nospam)\n",
        "false_negative = 1- get_accuracy(model_4, 32, valid_spam)"
      ],
      "metadata": {
        "id": "dEv26hYPq2Kt"
      },
      "execution_count": null,
      "outputs": []
    },
    {
      "cell_type": "code",
      "source": [
        "print(false_positive)"
      ],
      "metadata": {
        "colab": {
          "base_uri": "https://localhost:8080/"
        },
        "id": "7mFcT1duo49D",
        "outputId": "39238ac4-1fb3-4587-c4d0-f9895554fd4e"
      },
      "execution_count": null,
      "outputs": [
        {
          "output_type": "stream",
          "name": "stdout",
          "text": [
            "0.025906735751295318\n"
          ]
        }
      ]
    },
    {
      "cell_type": "code",
      "source": [
        "print(false_negative)"
      ],
      "metadata": {
        "colab": {
          "base_uri": "https://localhost:8080/"
        },
        "id": "xdRkvxzfo8GD",
        "outputId": "049186c7-2332-415c-d2ff-3477b53bfd8e"
      },
      "execution_count": null,
      "outputs": [
        {
          "output_type": "stream",
          "name": "stdout",
          "text": [
            "0.09999999999999998\n"
          ]
        }
      ]
    },
    {
      "cell_type": "markdown",
      "metadata": {
        "id": "N1iRteb3a91O"
      },
      "source": [
        "### Part (e) [2 pt]\n",
        "\n",
        "The impact of a false positive vs a false negative can be drastically different.\n",
        "If our spam detection algorithm was deployed on your phone, what is the impact\n",
        "of a false positive on the phone's user? What is the impact of a false negative?"
      ]
    },
    {
      "cell_type": "markdown",
      "source": [
        "False positives refer to for example, a spam message being classified as non-spam messages. This would be very irritating filling our phone with unnecessary messages to go through and sometimes may even cause confusion by judging the message as genuine making us commit a mistake for example, by clicking on a link of a spam message as we thought it was non-spam.\n",
        "\n",
        "Whereas on the other hand, false negatives refer to a non-spam message being classifies as spam. This is more harmful to us as it would lead to us missing some important messages for example, information about your next flight and the details."
      ],
      "metadata": {
        "id": "hmrUxatDxF3C"
      }
    },
    {
      "cell_type": "markdown",
      "metadata": {
        "id": "Gznefulsa91V"
      },
      "source": [
        "## Part 4. Evaluation [11 pt]\n",
        "\n",
        "### Part (a) [1 pt]\n",
        "\n",
        "Report the final test accuracy of your model."
      ]
    },
    {
      "cell_type": "code",
      "source": [
        "model_path = get_model_name(model_4.name, batch_size=32, learning_rate=0.0005, epoch=0)\n",
        "state = torch.load(model_path)\n",
        "model_4.load_state_dict(state)"
      ],
      "metadata": {
        "colab": {
          "base_uri": "https://localhost:8080/"
        },
        "id": "vbzO80jS793T",
        "outputId": "04ed5123-2e34-4afb-d0bc-2ddaf32aa977"
      },
      "execution_count": null,
      "outputs": [
        {
          "output_type": "execute_result",
          "data": {
            "text/plain": [
              "<All keys matched successfully>"
            ]
          },
          "metadata": {},
          "execution_count": 54
        }
      ]
    },
    {
      "cell_type": "code",
      "source": [
        "test_accuracy = get_accuracy(model_4, 32, test)\n",
        "print(\"test accuracy:\", test_accuracy)"
      ],
      "metadata": {
        "colab": {
          "base_uri": "https://localhost:8080/"
        },
        "id": "kWEicIsz8QcR",
        "outputId": "2758a1c3-64d6-4ff6-d082-708f53b2bb80"
      },
      "execution_count": null,
      "outputs": [
        {
          "output_type": "stream",
          "name": "stdout",
          "text": [
            "test accuracy: 0.9676840215439856\n"
          ]
        }
      ]
    },
    {
      "cell_type": "markdown",
      "metadata": {
        "id": "6Hjmd8rca91Y"
      },
      "source": [
        "### Part (b) [3 pt]\n",
        "\n",
        "Report the false positive rate and false negative rate of your model across the test set."
      ]
    },
    {
      "cell_type": "code",
      "execution_count": null,
      "metadata": {
        "collapsed": true,
        "id": "GFiAKztJa91Z",
        "jupyter": {
          "outputs_hidden": true
        }
      },
      "outputs": [],
      "source": [
        "# Create a Dataset of only spam validation examples\n",
        "test_spam = torchtext.legacy.data.Dataset(\n",
        "    [e for e in test.examples if e.label == 1],\n",
        "    test.fields)\n",
        "# Create a Dataset of only non-spam validation examples\n",
        "test_nospam = torchtext.legacy.data.Dataset(\n",
        "    [e for e in test.examples if e.label == 0],\n",
        "    test.fields)\n",
        "model_path = get_model_name(model_4.name, batch_size=32, learning_rate=0.0005, epoch=14)\n",
        "state = torch.load(model_path)\n",
        "model_4.load_state_dict(state)\n",
        "\n",
        "false_positive_test = 1- get_accuracy(model_4, 32, test_nospam)\n",
        "false_negative_test = 1- get_accuracy(model_4, 32, test_spam)"
      ]
    },
    {
      "cell_type": "code",
      "source": [
        "print(false_positive_test)"
      ],
      "metadata": {
        "colab": {
          "base_uri": "https://localhost:8080/"
        },
        "id": "SwjB9n5Rpkc6",
        "outputId": "ec76457f-707e-4bc8-de9a-62c10dd26d7a"
      },
      "execution_count": null,
      "outputs": [
        {
          "output_type": "stream",
          "name": "stdout",
          "text": [
            "0.01968911917098448\n"
          ]
        }
      ]
    },
    {
      "cell_type": "code",
      "source": [
        "print(false_negative_test)"
      ],
      "metadata": {
        "colab": {
          "base_uri": "https://localhost:8080/"
        },
        "id": "jESPb-E0psTL",
        "outputId": "b282aef7-41e2-4e87-912e-bb5584627ed8"
      },
      "execution_count": null,
      "outputs": [
        {
          "output_type": "stream",
          "name": "stdout",
          "text": [
            "0.10067114093959728\n"
          ]
        }
      ]
    },
    {
      "cell_type": "markdown",
      "metadata": {
        "id": "0jGHtQFpa91b"
      },
      "source": [
        "### Part (c) [3 pt]\n",
        "\n",
        "What is your model's prediction of the **probability** that\n",
        "the SMS message \"machine learning is sooo cool!\" is spam?\n",
        "\n",
        "Hint: To begin, use `text_field.vocab.stoi` to look up the index\n",
        "of each character in the vocabulary."
      ]
    },
    {
      "cell_type": "code",
      "execution_count": null,
      "metadata": {
        "id": "h_2nSJq8a91b",
        "jupyter": {
          "outputs_hidden": true
        },
        "colab": {
          "base_uri": "https://localhost:8080/"
        },
        "outputId": "0efd267e-3f37-4aba-b344-cda793b96a1c"
      },
      "outputs": [
        {
          "output_type": "stream",
          "name": "stdout",
          "text": [
            "[18, 6, 16, 13, 9, 7, 3, 2, 11, 3, 6, 8, 7, 9, 7, 22, 2, 9, 10, 2, 10, 4, 4, 4, 2, 16, 4, 4, 11, 46]\n"
          ]
        }
      ],
      "source": [
        "msg = \"machine learning is sooo cool!\"\n",
        "messages = []\n",
        "msg_list=[]\n",
        "for character in msg:\n",
        "  messages.append(text_field.vocab.stoi[character])\n",
        "print(messages)\n",
        "case = torch.LongTensor([messages])\n",
        "result = F.softmax(model_4(case), dim=1)[0][1].item()"
      ]
    },
    {
      "cell_type": "code",
      "source": [
        "print(result)"
      ],
      "metadata": {
        "colab": {
          "base_uri": "https://localhost:8080/"
        },
        "id": "IYweoyIA1FPB",
        "outputId": "8533314f-6db4-41fb-aa5c-d9105bfff255"
      },
      "execution_count": null,
      "outputs": [
        {
          "output_type": "stream",
          "name": "stdout",
          "text": [
            "0.058751996606588364\n"
          ]
        }
      ]
    },
    {
      "cell_type": "markdown",
      "metadata": {
        "id": "QD1zgYJpa91f"
      },
      "source": [
        "### Part (d) [4 pt]\n",
        "\n",
        "Do you think detecting spam is an easy or difficult task?\n",
        "\n",
        "Since machine learning models are expensive to train and deploy, it is very\n",
        "important to compare our models against baseline models: a simple\n",
        "model that is easy to build and inexpensive to run that we can compare our\n",
        "recurrent neural network model against.\n",
        "\n",
        "Explain how you might build a simple baseline model. This baseline model\n",
        "can be a simple neural network (with very few weights), a hand-written algorithm,\n",
        "or any other strategy that is easy to build and test.\n",
        "\n",
        "**Do not actually build a baseline model. Instead, provide instructions on\n",
        "how to build it.**"
      ]
    },
    {
      "cell_type": "markdown",
      "source": [
        "Filtering technique based on content of the words: Using SVM, we can create some automatic filtering  rules that can be used to judge whether its spam or not. The baseline model will help analyze certain words along with how many times they have occured in the messages. For example we can create rules by judging the phrases on messages/emails with words \"Congratulations\", \"free\" etc. and whether or not they are referring to someone in particular or just a general random person.\n",
        "\n",
        "Heuristic based filtering: Another way would be to use heuristics to judge certain patterns that appear in spam messages/emails. Identifying such patterns would increase the score for a particular message. If the score increases beyond a particular value then it will end up being classified as a spam message."
      ],
      "metadata": {
        "id": "9aaKA8Ej5Xo_"
      }
    }
  ],
  "metadata": {
    "colab": {
      "collapsed_sections": [],
      "name": "Lab5 Spam Detection.ipynb",
      "provenance": [],
      "include_colab_link": true
    },
    "kernelspec": {
      "display_name": "Python 3 (ipykernel)",
      "language": "python",
      "name": "python3"
    },
    "language_info": {
      "codemirror_mode": {
        "name": "ipython",
        "version": 3
      },
      "file_extension": ".py",
      "mimetype": "text/x-python",
      "name": "python",
      "nbconvert_exporter": "python",
      "pygments_lexer": "ipython3",
      "version": "3.9.4"
    },
    "accelerator": "GPU",
    "gpuClass": "standard"
  },
  "nbformat": 4,
  "nbformat_minor": 0
}